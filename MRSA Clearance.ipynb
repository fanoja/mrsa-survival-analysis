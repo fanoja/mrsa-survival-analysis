{
 "cells": [
  {
   "cell_type": "markdown",
   "metadata": {},
   "source": [
    "# MRSA Clearance\n",
    "## Figures and Tables for the Manuscript: \n",
    "\n",
    "## *\"Bayesian survival analysis for the impact of antibiotic resistance on the efficiency MRSA decolonization\"*\n",
    "\n",
    "\n",
    "### Directories\n",
    "\n",
    "`scripts`: Relevant scripts for preprocessing, data visualization etc.\n",
    "\n",
    "`data`: Data files\n",
    "\n",
    "`results`: Figures and Tables as in the articles\n",
    "\n",
    "`saved_models`: Pretrained models \n",
    "\n",
    "### Using a Computing Cluster\n",
    "\n",
    "It is recommended to fit the survival models (especially with random effects) on a computing cluster & the fitted models should be saved in the `saved_models` directory for visualization in this notebook. Instructions for using a computing cluster are at the end of the notebook. This notebook details an example of generating a simpler model (no random effects) that can be run locally."
   ]
  },
  {
   "cell_type": "code",
   "execution_count": 1,
   "metadata": {},
   "outputs": [],
   "source": [
    "# Set local root directory (if different from working directory)\n",
    "root <- \"\""
   ]
  },
  {
   "cell_type": "markdown",
   "metadata": {},
   "source": [
    "# 1. Preprocessing\n",
    "\n",
    "## Strain Assignment\n",
    "\n",
    "Strains are assigned using *BaeMBac*, separately for ST5 and ST8. For this, we need a data frame with the SNP distance and time (in generations) between two consecutive MRSA isolates. Two data frames were generated, one for ST5 isolates and one for ST8 isolates.\n",
    "\n",
    "These data frames are used as input for [*BaeMBac*](https://github.com/mjarvenpaa/bacterial-colonization-model) software, which assigns same-strain/different-strain probabilities for each isolate pair. *BaeMBac* should be run on a computing cluster. Please see `strains` folder for helper scripts."
   ]
  },
  {
   "cell_type": "code",
   "execution_count": 2,
   "metadata": {},
   "outputs": [
    {
     "data": {
      "text/html": [
       "<table class=\"dataframe\">\n",
       "<caption>A data.frame: 6 × 11</caption>\n",
       "<thead>\n",
       "\t<tr><th></th><th scope=col>Var1</th><th scope=col>Var2</th><th scope=col>value</th><th scope=col>timediff</th><th scope=col>host</th><th scope=col>v0</th><th scope=col>site0</th><th scope=col>v1</th><th scope=col>site1</th><th scope=col>ST</th><th scope=col>ARM</th></tr>\n",
       "\t<tr><th></th><th scope=col>&lt;chr&gt;</th><th scope=col>&lt;chr&gt;</th><th scope=col>&lt;int&gt;</th><th scope=col>&lt;dbl&gt;</th><th scope=col>&lt;int&gt;</th><th scope=col>&lt;chr&gt;</th><th scope=col>&lt;chr&gt;</th><th scope=col>&lt;chr&gt;</th><th scope=col>&lt;chr&gt;</th><th scope=col>&lt;dbl&gt;</th><th scope=col>&lt;chr&gt;</th></tr>\n",
       "</thead>\n",
       "<tbody>\n",
       "\t<tr><th scope=row>1</th><td>M41648</td><td>5056_44</td><td>13</td><td>298</td><td>1008</td><td>R0</td><td>nares</td><td>V4</td><td>skin  </td><td>5</td><td>D</td></tr>\n",
       "\t<tr><th scope=row>2</th><td>M41648</td><td>5056_43</td><td>23</td><td>298</td><td>1008</td><td>R0</td><td>nares</td><td>V4</td><td>throat</td><td>5</td><td>D</td></tr>\n",
       "\t<tr><th scope=row>4</th><td>M41648</td><td>H54403 </td><td> 8</td><td>199</td><td>1008</td><td>R0</td><td>nares</td><td>V3</td><td>nares </td><td>5</td><td>D</td></tr>\n",
       "\t<tr><th scope=row>5</th><td>M41648</td><td>F54452 </td><td>13</td><td>298</td><td>1008</td><td>R0</td><td>nares</td><td>V4</td><td>nares </td><td>5</td><td>D</td></tr>\n",
       "\t<tr><th scope=row>7</th><td>H57070</td><td>H57815 </td><td> 3</td><td>189</td><td>1023</td><td>R0</td><td>nares</td><td>V3</td><td>nares </td><td>5</td><td>E</td></tr>\n",
       "\t<tr><th scope=row>8</th><td>H57070</td><td>M12703 </td><td> 2</td><td> 95</td><td>1023</td><td>R0</td><td>nares</td><td>V2</td><td>nares </td><td>5</td><td>E</td></tr>\n",
       "</tbody>\n",
       "</table>\n"
      ],
      "text/latex": [
       "A data.frame: 6 × 11\n",
       "\\begin{tabular}{r|lllllllllll}\n",
       "  & Var1 & Var2 & value & timediff & host & v0 & site0 & v1 & site1 & ST & ARM\\\\\n",
       "  & <chr> & <chr> & <int> & <dbl> & <int> & <chr> & <chr> & <chr> & <chr> & <dbl> & <chr>\\\\\n",
       "\\hline\n",
       "\t1 & M41648 & 5056\\_44 & 13 & 298 & 1008 & R0 & nares & V4 & skin   & 5 & D\\\\\n",
       "\t2 & M41648 & 5056\\_43 & 23 & 298 & 1008 & R0 & nares & V4 & throat & 5 & D\\\\\n",
       "\t4 & M41648 & H54403  &  8 & 199 & 1008 & R0 & nares & V3 & nares  & 5 & D\\\\\n",
       "\t5 & M41648 & F54452  & 13 & 298 & 1008 & R0 & nares & V4 & nares  & 5 & D\\\\\n",
       "\t7 & H57070 & H57815  &  3 & 189 & 1023 & R0 & nares & V3 & nares  & 5 & E\\\\\n",
       "\t8 & H57070 & M12703  &  2 &  95 & 1023 & R0 & nares & V2 & nares  & 5 & E\\\\\n",
       "\\end{tabular}\n"
      ],
      "text/markdown": [
       "\n",
       "A data.frame: 6 × 11\n",
       "\n",
       "| <!--/--> | Var1 &lt;chr&gt; | Var2 &lt;chr&gt; | value &lt;int&gt; | timediff &lt;dbl&gt; | host &lt;int&gt; | v0 &lt;chr&gt; | site0 &lt;chr&gt; | v1 &lt;chr&gt; | site1 &lt;chr&gt; | ST &lt;dbl&gt; | ARM &lt;chr&gt; |\n",
       "|---|---|---|---|---|---|---|---|---|---|---|---|\n",
       "| 1 | M41648 | 5056_44 | 13 | 298 | 1008 | R0 | nares | V4 | skin   | 5 | D |\n",
       "| 2 | M41648 | 5056_43 | 23 | 298 | 1008 | R0 | nares | V4 | throat | 5 | D |\n",
       "| 4 | M41648 | H54403  |  8 | 199 | 1008 | R0 | nares | V3 | nares  | 5 | D |\n",
       "| 5 | M41648 | F54452  | 13 | 298 | 1008 | R0 | nares | V4 | nares  | 5 | D |\n",
       "| 7 | H57070 | H57815  |  3 | 189 | 1023 | R0 | nares | V3 | nares  | 5 | E |\n",
       "| 8 | H57070 | M12703  |  2 |  95 | 1023 | R0 | nares | V2 | nares  | 5 | E |\n",
       "\n"
      ],
      "text/plain": [
       "  Var1   Var2    value timediff host v0 site0 v1 site1  ST ARM\n",
       "1 M41648 5056_44 13    298      1008 R0 nares V4 skin   5  D  \n",
       "2 M41648 5056_43 23    298      1008 R0 nares V4 throat 5  D  \n",
       "4 M41648 H54403   8    199      1008 R0 nares V3 nares  5  D  \n",
       "5 M41648 F54452  13    298      1008 R0 nares V4 nares  5  D  \n",
       "7 H57070 H57815   3    189      1023 R0 nares V3 nares  5  E  \n",
       "8 H57070 M12703   2     95      1023 R0 nares V2 nares  5  E  "
      ]
     },
     "metadata": {},
     "output_type": "display_data"
    }
   ],
   "source": [
    "dfst5 <- readRDS(file = \"data/dfst5.RData\")\n",
    "dfst8 <- readRDS(file = \"data/dfst8.RData\")\n",
    "\n",
    "head(dfst5) # take a look\n",
    "\n",
    "# From these, we only need the value and time difference between two isolates"
   ]
  },
  {
   "cell_type": "markdown",
   "metadata": {},
   "source": [
    "## Survival Data Preprocessing\n",
    "\n",
    "For the purposes of survival analysis, the data needs to be resturctured. Survival data consists of an event indicator (clearance of MRSA colonization), time-to-event and covariates (antimicrobial resistance profile). Check the manuscript for details. Scirpts for preprocessing are available in the `scripts\\` directory. \n",
    "\n",
    "Here, we include the preprocessed data. `y` is the event of interest: 0 for not cleared and 3 for interval censored (i.e., MRSA colonization by the strain of interest was cleared between two consecutive visits.\n",
    "\n",
    "\n",
    "If there was a missing resistance from a strain, it will be replaced by the most common status of the antibiotic of interest. Otherwise the missing resistance will be marked as NA.\n"
   ]
  },
  {
   "cell_type": "code",
   "execution_count": 3,
   "metadata": {},
   "outputs": [],
   "source": [
    "data <- readRDS(paste(root, \"data/surv_data/data.RData\", sep = \"\")) # strain-specific survival data\n",
    "data_sites <- readRDS(paste(root, \"data/surv_data/data_sites.RData\", sep = \"\"))"
   ]
  },
  {
   "cell_type": "code",
   "execution_count": 4,
   "metadata": {},
   "outputs": [
    {
     "data": {
      "text/html": [
       "<table class=\"dataframe\">\n",
       "<caption>A data.frame: 6 × 20</caption>\n",
       "<thead>\n",
       "\t<tr><th></th><th scope=col>Visit..</th><th scope=col>host_id</th><th scope=col>strain</th><th scope=col>y</th><th scope=col>ARM</th><th scope=col>delta_t</th><th scope=col>ST</th><th scope=col>Ciprofloxacin</th><th scope=col>Clindamycin</th><th scope=col>Erythromycin</th><th scope=col>Gentamicin</th><th scope=col>Mupirocin</th><th scope=col>Rifampicin</th><th scope=col>Tetracycline</th><th scope=col>Trimethoprim</th><th scope=col>Chlorhexidine</th><th scope=col>t0</th><th scope=col>CHG.Bathing</th><th scope=col>CHG.Oral.Rinse</th><th scope=col>Mupirocin.Adherence</th></tr>\n",
       "\t<tr><th></th><th scope=col>&lt;chr&gt;</th><th scope=col>&lt;int&gt;</th><th scope=col>&lt;dbl&gt;</th><th scope=col>&lt;dbl&gt;</th><th scope=col>&lt;chr&gt;</th><th scope=col>&lt;dbl&gt;</th><th scope=col>&lt;chr&gt;</th><th scope=col>&lt;dbl&gt;</th><th scope=col>&lt;dbl&gt;</th><th scope=col>&lt;dbl&gt;</th><th scope=col>&lt;dbl&gt;</th><th scope=col>&lt;dbl&gt;</th><th scope=col>&lt;dbl&gt;</th><th scope=col>&lt;dbl&gt;</th><th scope=col>&lt;dbl&gt;</th><th scope=col>&lt;dbl&gt;</th><th scope=col>&lt;dbl&gt;</th><th scope=col>&lt;chr&gt;</th><th scope=col>&lt;chr&gt;</th><th scope=col>&lt;chr&gt;</th></tr>\n",
       "</thead>\n",
       "<tbody>\n",
       "\t<tr><th scope=row>1</th><td>V1</td><td>1003</td><td> 135</td><td>0</td><td>1</td><td>1.200000</td><td>5</td><td>1</td><td>1</td><td>1</td><td>0</td><td>0</td><td>0</td><td>0</td><td>0</td><td>0</td><td>1.200000</td><td>1</td><td>1</td><td>1</td></tr>\n",
       "\t<tr><th scope=row>3</th><td>V1</td><td>1008</td><td>   1</td><td>3</td><td>1</td><td>1.000000</td><td>5</td><td>1</td><td>1</td><td>1</td><td>0</td><td>0</td><td>1</td><td>0</td><td>0</td><td>1</td><td>0.010000</td><td>1</td><td>1</td><td>1</td></tr>\n",
       "\t<tr><th scope=row>6</th><td>V1</td><td>1018</td><td>1097</td><td>3</td><td>1</td><td>1.000000</td><td>8</td><td>1</td><td>0</td><td>1</td><td>0</td><td>0</td><td>0</td><td>0</td><td>0</td><td>0</td><td>0.010000</td><td>1</td><td>1</td><td>1</td></tr>\n",
       "\t<tr><th scope=row>13</th><td>V1</td><td>1029</td><td> 360</td><td>0</td><td>1</td><td>1.633333</td><td>8</td><td>1</td><td>0</td><td>1</td><td>0</td><td>0</td><td>0</td><td>0</td><td>0</td><td>0</td><td>1.633333</td><td>1</td><td>1</td><td>1</td></tr>\n",
       "\t<tr><th scope=row>16</th><td>V1</td><td>1048</td><td>1123</td><td>3</td><td>1</td><td>1.000000</td><td>8</td><td>1</td><td>0</td><td>0</td><td>0</td><td>0</td><td>0</td><td>0</td><td>0</td><td>0</td><td>0.010000</td><td>1</td><td>1</td><td>1</td></tr>\n",
       "\t<tr><th scope=row>21</th><td>V1</td><td>1058</td><td> 362</td><td>0</td><td>1</td><td>1.000000</td><td>8</td><td>1</td><td>0</td><td>1</td><td>1</td><td>1</td><td>0</td><td>0</td><td>0</td><td>0</td><td>1.000000</td><td>1</td><td>1</td><td>1</td></tr>\n",
       "</tbody>\n",
       "</table>\n"
      ],
      "text/latex": [
       "A data.frame: 6 × 20\n",
       "\\begin{tabular}{r|llllllllllllllllllll}\n",
       "  & Visit.. & host\\_id & strain & y & ARM & delta\\_t & ST & Ciprofloxacin & Clindamycin & Erythromycin & Gentamicin & Mupirocin & Rifampicin & Tetracycline & Trimethoprim & Chlorhexidine & t0 & CHG.Bathing & CHG.Oral.Rinse & Mupirocin.Adherence\\\\\n",
       "  & <chr> & <int> & <dbl> & <dbl> & <chr> & <dbl> & <chr> & <dbl> & <dbl> & <dbl> & <dbl> & <dbl> & <dbl> & <dbl> & <dbl> & <dbl> & <dbl> & <chr> & <chr> & <chr>\\\\\n",
       "\\hline\n",
       "\t1 & V1 & 1003 &  135 & 0 & 1 & 1.200000 & 5 & 1 & 1 & 1 & 0 & 0 & 0 & 0 & 0 & 0 & 1.200000 & 1 & 1 & 1\\\\\n",
       "\t3 & V1 & 1008 &    1 & 3 & 1 & 1.000000 & 5 & 1 & 1 & 1 & 0 & 0 & 1 & 0 & 0 & 1 & 0.010000 & 1 & 1 & 1\\\\\n",
       "\t6 & V1 & 1018 & 1097 & 3 & 1 & 1.000000 & 8 & 1 & 0 & 1 & 0 & 0 & 0 & 0 & 0 & 0 & 0.010000 & 1 & 1 & 1\\\\\n",
       "\t13 & V1 & 1029 &  360 & 0 & 1 & 1.633333 & 8 & 1 & 0 & 1 & 0 & 0 & 0 & 0 & 0 & 0 & 1.633333 & 1 & 1 & 1\\\\\n",
       "\t16 & V1 & 1048 & 1123 & 3 & 1 & 1.000000 & 8 & 1 & 0 & 0 & 0 & 0 & 0 & 0 & 0 & 0 & 0.010000 & 1 & 1 & 1\\\\\n",
       "\t21 & V1 & 1058 &  362 & 0 & 1 & 1.000000 & 8 & 1 & 0 & 1 & 1 & 1 & 0 & 0 & 0 & 0 & 1.000000 & 1 & 1 & 1\\\\\n",
       "\\end{tabular}\n"
      ],
      "text/markdown": [
       "\n",
       "A data.frame: 6 × 20\n",
       "\n",
       "| <!--/--> | Visit.. &lt;chr&gt; | host_id &lt;int&gt; | strain &lt;dbl&gt; | y &lt;dbl&gt; | ARM &lt;chr&gt; | delta_t &lt;dbl&gt; | ST &lt;chr&gt; | Ciprofloxacin &lt;dbl&gt; | Clindamycin &lt;dbl&gt; | Erythromycin &lt;dbl&gt; | Gentamicin &lt;dbl&gt; | Mupirocin &lt;dbl&gt; | Rifampicin &lt;dbl&gt; | Tetracycline &lt;dbl&gt; | Trimethoprim &lt;dbl&gt; | Chlorhexidine &lt;dbl&gt; | t0 &lt;dbl&gt; | CHG.Bathing &lt;chr&gt; | CHG.Oral.Rinse &lt;chr&gt; | Mupirocin.Adherence &lt;chr&gt; |\n",
       "|---|---|---|---|---|---|---|---|---|---|---|---|---|---|---|---|---|---|---|---|---|\n",
       "| 1 | V1 | 1003 |  135 | 0 | 1 | 1.200000 | 5 | 1 | 1 | 1 | 0 | 0 | 0 | 0 | 0 | 0 | 1.200000 | 1 | 1 | 1 |\n",
       "| 3 | V1 | 1008 |    1 | 3 | 1 | 1.000000 | 5 | 1 | 1 | 1 | 0 | 0 | 1 | 0 | 0 | 1 | 0.010000 | 1 | 1 | 1 |\n",
       "| 6 | V1 | 1018 | 1097 | 3 | 1 | 1.000000 | 8 | 1 | 0 | 1 | 0 | 0 | 0 | 0 | 0 | 0 | 0.010000 | 1 | 1 | 1 |\n",
       "| 13 | V1 | 1029 |  360 | 0 | 1 | 1.633333 | 8 | 1 | 0 | 1 | 0 | 0 | 0 | 0 | 0 | 0 | 1.633333 | 1 | 1 | 1 |\n",
       "| 16 | V1 | 1048 | 1123 | 3 | 1 | 1.000000 | 8 | 1 | 0 | 0 | 0 | 0 | 0 | 0 | 0 | 0 | 0.010000 | 1 | 1 | 1 |\n",
       "| 21 | V1 | 1058 |  362 | 0 | 1 | 1.000000 | 8 | 1 | 0 | 1 | 1 | 1 | 0 | 0 | 0 | 0 | 1.000000 | 1 | 1 | 1 |\n",
       "\n"
      ],
      "text/plain": [
       "   Visit.. host_id strain y ARM delta_t  ST Ciprofloxacin Clindamycin\n",
       "1  V1      1003     135   0 1   1.200000 5  1             1          \n",
       "3  V1      1008       1   3 1   1.000000 5  1             1          \n",
       "6  V1      1018    1097   3 1   1.000000 8  1             0          \n",
       "13 V1      1029     360   0 1   1.633333 8  1             0          \n",
       "16 V1      1048    1123   3 1   1.000000 8  1             0          \n",
       "21 V1      1058     362   0 1   1.000000 8  1             0          \n",
       "   Erythromycin Gentamicin Mupirocin Rifampicin Tetracycline Trimethoprim\n",
       "1  1            0          0         0          0            0           \n",
       "3  1            0          0         1          0            0           \n",
       "6  1            0          0         0          0            0           \n",
       "13 1            0          0         0          0            0           \n",
       "16 0            0          0         0          0            0           \n",
       "21 1            1          1         0          0            0           \n",
       "   Chlorhexidine t0       CHG.Bathing CHG.Oral.Rinse Mupirocin.Adherence\n",
       "1  0             1.200000 1           1              1                  \n",
       "3  1             0.010000 1           1              1                  \n",
       "6  0             0.010000 1           1              1                  \n",
       "13 0             1.633333 1           1              1                  \n",
       "16 0             0.010000 1           1              1                  \n",
       "21 0             1.000000 1           1              1                  "
      ]
     },
     "metadata": {},
     "output_type": "display_data"
    }
   ],
   "source": [
    "head(data) # restructured data"
   ]
  },
  {
   "cell_type": "markdown",
   "metadata": {},
   "source": [
    "# 2. Exploratory Analysis"
   ]
  },
  {
   "cell_type": "code",
   "execution_count": 5,
   "metadata": {},
   "outputs": [
    {
     "name": "stdout",
     "output_type": "stream",
     "text": [
      "[1] \"Required ggplot2\"\n"
     ]
    },
    {
     "name": "stderr",
     "output_type": "stream",
     "text": [
      "Loading required package: ggplot2\n",
      "\n"
     ]
    },
    {
     "name": "stdout",
     "output_type": "stream",
     "text": [
      "[1] \"Required gridExtra\"\n"
     ]
    },
    {
     "name": "stderr",
     "output_type": "stream",
     "text": [
      "Loading required package: gridExtra\n",
      "\n"
     ]
    },
    {
     "name": "stdout",
     "output_type": "stream",
     "text": [
      "[1] \"Required cowplot\"\n"
     ]
    },
    {
     "name": "stderr",
     "output_type": "stream",
     "text": [
      "Loading required package: cowplot\n",
      "\n"
     ]
    },
    {
     "name": "stdout",
     "output_type": "stream",
     "text": [
      "[1] \"Required bayesplot\"\n"
     ]
    },
    {
     "name": "stderr",
     "output_type": "stream",
     "text": [
      "Loading required package: bayesplot\n",
      "\n",
      "This is bayesplot version 1.9.0\n",
      "\n",
      "- Online documentation and vignettes at mc-stan.org/bayesplot\n",
      "\n",
      "- bayesplot theme set to bayesplot::theme_default()\n",
      "\n",
      "   * Does _not_ affect other ggplot2 plots\n",
      "\n",
      "   * See ?bayesplot_theme_set for details on theme setting\n",
      "\n"
     ]
    },
    {
     "name": "stdout",
     "output_type": "stream",
     "text": [
      "[1] \"Required reshape2\"\n"
     ]
    },
    {
     "name": "stderr",
     "output_type": "stream",
     "text": [
      "Loading required package: reshape2\n",
      "\n"
     ]
    },
    {
     "name": "stdout",
     "output_type": "stream",
     "text": [
      "[1] \"Required rstanarm\"\n"
     ]
    },
    {
     "name": "stderr",
     "output_type": "stream",
     "text": [
      "Loading required package: rstanarm\n",
      "\n",
      "Loading required package: Rcpp\n",
      "\n",
      "This is rstanarm version 2.21.2\n",
      "\n",
      "- See https://mc-stan.org/rstanarm/articles/priors for changes to default priors!\n",
      "\n",
      "- Default priors may change, so it's safest to specify priors, even if equivalent to the defaults.\n",
      "\n",
      "- For execution on a local, multicore CPU with excess RAM we recommend calling\n",
      "\n",
      "  options(mc.cores = parallel::detectCores())\n",
      "\n"
     ]
    },
    {
     "name": "stdout",
     "output_type": "stream",
     "text": [
      "[1] \"Required igraph\"\n"
     ]
    },
    {
     "name": "stderr",
     "output_type": "stream",
     "text": [
      "Loading required package: igraph\n",
      "\n",
      "\n",
      "Attaching package: ‘igraph’\n",
      "\n",
      "\n",
      "The following objects are masked from ‘package:stats’:\n",
      "\n",
      "    decompose, spectrum\n",
      "\n",
      "\n",
      "The following object is masked from ‘package:base’:\n",
      "\n",
      "    union\n",
      "\n",
      "\n"
     ]
    }
   ],
   "source": [
    "## Load the data ##\n",
    "\n",
    "is_mod1 <- F # model 1: each antibiotic in a separate model, by default False. Do not change.\n",
    "data <- readRDS(paste(root, \"data/surv_data/data.RData\", sep = \"\")) # strain-specific data\n",
    "data_sites <- readRDS(paste(root, \"data/surv_data/data_sites.RData\", sep = \"\")) # site-specific data\n",
    "treatments <- readRDS(paste(root, \"data/surv_data/treatments.RData\", sep = \"\")) # character vector of antimicrobial names\n",
    "\n",
    "## Set directories ##\n",
    "\n",
    "# Directory where the models are saved\n",
    "savedir <- \"saved_models/\"\n",
    "\n",
    "# Directories for saving the figures and result tables\n",
    "\n",
    "fig_savedir <- paste(root, \"results/figures/\", sep = \"\")\n",
    "table_savedir <- paste(root, \"results/tables/\", sep = \"\")\n",
    "\n",
    "## Other ##\n",
    "source(paste(root, \"scripts/utilities.R\", sep = \"\")) # utility functions\n",
    "source(\"scripts/article_vis.R\") # plotting functions\n",
    "\n",
    "library(\"cowplot\")\n",
    "theme_set(theme_cowplot(font_family = \"Times\", font_size=12)) # font size and type\n"
   ]
  },
  {
   "cell_type": "markdown",
   "metadata": {},
   "source": [
    "## 2.1 Fig 1. Network visualization of MRSA colonization\n",
    "\n",
    "This visualization shows, by body site and by visit, how the MRSA colonization proceeds in a host. The first example host has a persistent MRSA colonization of the same strain, while the second example host has four different colonizing MRSA strains. Note that many hosts had only one MRSA positive isolate sampled from them, unlike these example cases."
   ]
  },
  {
   "cell_type": "code",
   "execution_count": 6,
   "metadata": {},
   "outputs": [
    {
     "name": "stdout",
     "output_type": "stream",
     "text": [
      " [1] \"C\"   \"A1\"  \"A1\"  \"B\"   \"A1\"  \"a1\"  \"B\"   \"C\"   \"C\"   \"C34\" \"B\"  \n",
      "[1] \"n ids generated: 5\"\n",
      "[1] \"n iterations: 5\"\n"
     ]
    },
    {
     "data": {
      "text/html": [
       "<table class=\"dataframe\">\n",
       "<caption>A data.frame: 11 × 3</caption>\n",
       "<thead>\n",
       "\t<tr><th></th><th scope=col>old_id</th><th scope=col>indx</th><th scope=col>new_id</th></tr>\n",
       "\t<tr><th></th><th scope=col>&lt;chr&gt;</th><th scope=col>&lt;dbl&gt;</th><th scope=col>&lt;chr&gt;</th></tr>\n",
       "</thead>\n",
       "<tbody>\n",
       "\t<tr><th scope=row>8</th><td>C  </td><td> 1</td><td>y1h54t</td></tr>\n",
       "\t<tr><th scope=row>2</th><td>A1 </td><td> 2</td><td>c7rpm9</td></tr>\n",
       "\t<tr><th scope=row>3</th><td>A1 </td><td> 3</td><td>c7rpm9</td></tr>\n",
       "\t<tr><th scope=row>6</th><td>B  </td><td> 4</td><td>7b38tm</td></tr>\n",
       "\t<tr><th scope=row>4</th><td>A1 </td><td> 5</td><td>c7rpm9</td></tr>\n",
       "\t<tr><th scope=row>1</th><td>a1 </td><td> 6</td><td>yprv9a</td></tr>\n",
       "\t<tr><th scope=row>5</th><td>B  </td><td> 7</td><td>7b38tm</td></tr>\n",
       "\t<tr><th scope=row>9</th><td>C  </td><td> 8</td><td>y1h54t</td></tr>\n",
       "\t<tr><th scope=row>10</th><td>C  </td><td> 9</td><td>y1h54t</td></tr>\n",
       "\t<tr><th scope=row>11</th><td>C34</td><td>10</td><td>irs106</td></tr>\n",
       "\t<tr><th scope=row>7</th><td>B  </td><td>11</td><td>7b38tm</td></tr>\n",
       "</tbody>\n",
       "</table>\n"
      ],
      "text/latex": [
       "A data.frame: 11 × 3\n",
       "\\begin{tabular}{r|lll}\n",
       "  & old\\_id & indx & new\\_id\\\\\n",
       "  & <chr> & <dbl> & <chr>\\\\\n",
       "\\hline\n",
       "\t8 & C   &  1 & y1h54t\\\\\n",
       "\t2 & A1  &  2 & c7rpm9\\\\\n",
       "\t3 & A1  &  3 & c7rpm9\\\\\n",
       "\t6 & B   &  4 & 7b38tm\\\\\n",
       "\t4 & A1  &  5 & c7rpm9\\\\\n",
       "\t1 & a1  &  6 & yprv9a\\\\\n",
       "\t5 & B   &  7 & 7b38tm\\\\\n",
       "\t9 & C   &  8 & y1h54t\\\\\n",
       "\t10 & C   &  9 & y1h54t\\\\\n",
       "\t11 & C34 & 10 & irs106\\\\\n",
       "\t7 & B   & 11 & 7b38tm\\\\\n",
       "\\end{tabular}\n"
      ],
      "text/markdown": [
       "\n",
       "A data.frame: 11 × 3\n",
       "\n",
       "| <!--/--> | old_id &lt;chr&gt; | indx &lt;dbl&gt; | new_id &lt;chr&gt; |\n",
       "|---|---|---|---|\n",
       "| 8 | C   |  1 | y1h54t |\n",
       "| 2 | A1  |  2 | c7rpm9 |\n",
       "| 3 | A1  |  3 | c7rpm9 |\n",
       "| 6 | B   |  4 | 7b38tm |\n",
       "| 4 | A1  |  5 | c7rpm9 |\n",
       "| 1 | a1  |  6 | yprv9a |\n",
       "| 5 | B   |  7 | 7b38tm |\n",
       "| 9 | C   |  8 | y1h54t |\n",
       "| 10 | C   |  9 | y1h54t |\n",
       "| 11 | C34 | 10 | irs106 |\n",
       "| 7 | B   | 11 | 7b38tm |\n",
       "\n"
      ],
      "text/plain": [
       "   old_id indx new_id\n",
       "8  C       1   y1h54t\n",
       "2  A1      2   c7rpm9\n",
       "3  A1      3   c7rpm9\n",
       "6  B       4   7b38tm\n",
       "4  A1      5   c7rpm9\n",
       "1  a1      6   yprv9a\n",
       "5  B       7   7b38tm\n",
       "9  C       8   y1h54t\n",
       "10 C       9   y1h54t\n",
       "11 C34    10   irs106\n",
       "7  B      11   7b38tm"
      ]
     },
     "metadata": {},
     "output_type": "display_data"
    },
    {
     "ename": "ERROR",
     "evalue": "Error in eval(expr, envir, enclos): object 'dfst' not found\n",
     "output_type": "error",
     "traceback": [
      "Error in eval(expr, envir, enclos): object 'dfst' not found\nTraceback:\n"
     ]
    }
   ],
   "source": [
    "\n",
    "get_new_unique_ids <- function(to_replace, len_id=6, symbols = c(letters, rep(0:9,4)), debug = F, seed = 123549){\n",
    "    #' Create unique identifiers to replace the unique values in a vector\n",
    "    #'\n",
    "    #' @param to_replace A vector of values to replace with unique identifiers\n",
    "    #' @param len_id Length of the identifier string\n",
    "    #' @param symbols Symbols to use in generation of the identifier string. Must be enough for generation of enough unique identifiers!\n",
    "    #' @param debug Print the number of ids generated and the number of iterations\n",
    "    #'\n",
    "    #' @return new_ids A data frame with the old and new identifier vectors as columns\n",
    "    \n",
    "    # TODO: dealing with NAs\n",
    "    \n",
    "    set.seed(seed)\n",
    "    \n",
    "    n_ids <- length(unique(to_replace))\n",
    "    ids <- c()\n",
    "    n_iter <- 0\n",
    "    while (length(unique(ids))< n_ids){\n",
    "       id <- paste(sample(symbols, len_id), collapse = \"\")\n",
    "        if (!id %in% ids){\n",
    "            ids <- c(ids, id)\n",
    "        }\n",
    "        n_iter <- n_iter + 1 # can be higher than the number of ids because of eliminated duplicates\n",
    "    }\n",
    "\n",
    "    lookup <- data.frame(\"old_id\" = unique(to_replace), \"new_id\" = ids)\n",
    "    old_data <- data.frame(\"old_id\" = to_replace)\n",
    "    old_data$indx <- as.numeric(rownames(old_data)) # to keep the order the same\n",
    "    new_ids <- merge(old_data, lookup, by = \"old_id\")\n",
    "    new_ids <- new_ids[order(new_ids$indx),]\n",
    "    \n",
    "    if (debug){\n",
    "        print(paste(\"n ids generated: \", length(ids), sep = \"\"))\n",
    "        print(paste(\"n iterations: \", n_iter, sep = \"\"))\n",
    "    }\n",
    "\n",
    "    new_ids   \n",
    "}\n",
    "\n",
    "testids <- c(\"C\", \"A1\", \"A1\", \"B\", \"A1\", \"a1\", \"B\", \"C\", \"C\", \"C34\", \"B\")\n",
    "print(testids)\n",
    "test <- get_new_unique_ids(testids, debug = T)\n",
    "test\n",
    "\n",
    "testids2 <- dfst$Var1[0:25]\n",
    "print(testids2)\n",
    "test2 <- get_new_unique_ids(testids2, debug = T)\n",
    "test2\n",
    "\n",
    "# problem: order is not retained!!!"
   ]
  },
  {
   "cell_type": "code",
   "execution_count": null,
   "metadata": {},
   "outputs": [],
   "source": [
    "source(\"scripts/strain_functions.R\")\n",
    "\n",
    "dfst5 <- readRDS(\"data/dfst5.RData\")\n",
    "dfst8 <- readRDS(\"data/dfst8.RData\")\n",
    "\n",
    "dfst <- add_threshold_strains(rbind(dfst5, dfst8))\n",
    "\n",
    "head(dfst)\n",
    "\n",
    "host <- 1008\n",
    "t <- vis_mrc_df_6(dfst[which(dfst$host == host),], title_addon = \", Subject 1\") # A host with only one strain\n",
    "\n",
    "host <- 1059 #2213\n",
    "t <- vis_mrc_df_6(dfst[which(dfst$host == host),], title_addon = \", Subject 2\") # A host with multiple strains\n",
    "\n",
    "\n",
    "pdf(paste(fig_savedir, \"Fig1A.pdf\", sep = \"\"), height = 4, width = 4)\n",
    "t\n",
    "dev.off()"
   ]
  },
  {
   "cell_type": "markdown",
   "metadata": {},
   "source": [
    "## 2.2 Fig 2. Resistance and clearance probabilities from survival data"
   ]
  },
  {
   "cell_type": "code",
   "execution_count": null,
   "metadata": {},
   "outputs": [],
   "source": [
    "#get_resclear(data, \"Chlorhexidine\")\n",
    "rc_mup_d <- get_resclear(data[which(data$ARM == 1),], \"Mupirocin\")\n",
    "#get_resclear_barplot(data, \"Chlorhexidine\")\n",
    "rc_mup_d\n",
    "# proportion cleared and resistant out of all resistant obs:\n",
    "print(\"Resistant and cleared:\")\n",
    "rc_mup_d[,\"rc\"]/rc_mup_d[,\"res\"]\n",
    "# proportion of cleared and non-resistant out of all non-resistant obs:\n",
    "print(\"Non-resistant and cleared:\")\n",
    "rc_mup_d[,\"nrc\"]/rc_mup_d[,\"non_res\"]\n",
    "\n"
   ]
  },
  {
   "cell_type": "code",
   "execution_count": null,
   "metadata": {},
   "outputs": [],
   "source": [
    "# Generate & save Fig 2\n",
    "get_resclear_barplot(data, \"Mupirocin\")\n",
    "\n",
    "pdf(paste(fig_savedir, \"Fig2.pdf\", sep = \"\"), height = 4, width = 4)\n",
    "get_resclear_barplot(data, \"Mupirocin\")\n",
    "dev.off()"
   ]
  },
  {
   "cell_type": "markdown",
   "metadata": {},
   "source": [
    "## 2.3 Table 1. Number of strains and hosts\n",
    "\n",
    "For survival data!"
   ]
  },
  {
   "cell_type": "code",
   "execution_count": null,
   "metadata": {},
   "outputs": [],
   "source": [
    "# Take a look at the number of multiply colonized hosts:\n",
    "\n",
    "get_multistrain_table <- function(data){\n",
    "    #' Get the number of hosts with 1...n strains\n",
    "    #'\n",
    "    #' Also calculate the percentage of hosts (hosts/all hosts)\n",
    "    #'\n",
    "    #' @param data Survival data frame.\n",
    "    \n",
    "    host_strain_unique <- unique(data[c(\"host_id\", \"strain\")])\n",
    "    tab <- table(host_strain_unique$host_id)\n",
    "    \n",
    "    multistrain_table <- as.data.frame(table(tab))\n",
    "\n",
    "    # Visit.. here is the second visit of the interval. Why 2213 seems to have only 4 strains, not 5: the fifth strain is\n",
    "    # present only at V3 and V4, and will therefore be excluded.\n",
    "\n",
    "    colnames(multistrain_table) <- c(\"n_strains\", \"n_hosts\")\n",
    "    \n",
    "    multistrain_table$n_hosts <- paste(multistrain_table$n_hosts, multistrain_table$percent, sep = \" \")\n",
    "    \n",
    "    colnames(multistrain_table) <- c(\"n Strains\", \"n Hosts (%)\")\n",
    "    \n",
    "    return(multistrain_table)\n",
    "\n",
    "}\n",
    "\n",
    "# Divide to education and decolonization?\n",
    "multistrain_tab_d <- get_multistrain_table(data[which(data$ARM == 1),])\n",
    "multistrain_tab_e <- get_multistrain_table(data[which(data$ARM == 0),])\n",
    "\n",
    "multistrain_tab_arm <- data.frame(\"n Strains\" = multistrain_tab_d[,c(\"n Strains\")],\n",
    "                                  \"Decolonization n Hosts (%)\" = multistrain_tab_d[,2],\n",
    "                                 \"Education n Hosts (%)\" = multistrain_tab_e[,2])\n",
    "colnames(multistrain_tab_arm) <- c(\"Strains\", \"Hosts (Decolonization)\", \"Hosts (Education)\")\n",
    "multistrain_tab_arm\n",
    "\n",
    "write.csv(multistrain_tab_arm, file = paste(table_savedir, \"multistrain_tab_arm.csv\", sep = \"\"), quote = FALSE)"
   ]
  },
  {
   "cell_type": "markdown",
   "metadata": {},
   "source": [
    "## 2.4 Table 2. Summary of the survival data"
   ]
  },
  {
   "cell_type": "code",
   "execution_count": 7,
   "metadata": {},
   "outputs": [
    {
     "ename": "ERROR",
     "evalue": "Error in which(mykrobe_data$ST == \"5\"): object 'mykrobe_data' not found\n",
     "output_type": "error",
     "traceback": [
      "Error in which(mykrobe_data$ST == \"5\"): object 'mykrobe_data' not found\nTraceback:\n",
      "1. print(paste(\"n(ST5) in the original data:\", dim(data[which(mykrobe_data$ST == \n .     \"5\"), ])[1]))",
      "2. paste(\"n(ST5) in the original data:\", dim(data[which(mykrobe_data$ST == \n .     \"5\"), ])[1])",
      "3. data[which(mykrobe_data$ST == \"5\"), ]",
      "4. `[.data.frame`(data, which(mykrobe_data$ST == \"5\"), )",
      "5. which(mykrobe_data$ST == \"5\")"
     ]
    }
   ],
   "source": [
    "# Note that survival data has been limited to ST5 and ST8!\n",
    "# These counts are from the original data (not restructured for survival analysis) called 'mykrobe_data'\n",
    "print(paste(\"n(ST5) in the original data:\", dim(data[which(mykrobe_data$ST == \"5\"),])[1]))\n",
    "print(paste(\"n(ST8) in the original data:\", dim(data[which(mykrobe_data$ST == \"8\"),])[1]))\n",
    "print(\"Number of isolates in ST5 or ST8 in the original data:\")\n",
    "dim(data[which(mykrobe_data$ST %in% c(\"8\", \"5\")),])[1]\n",
    "print(\"Number of isolates NOT in ST5 or ST8 in the original data:\")\n",
    "dim(data[which(!mykrobe_data$ST %in% c(\"8\", \"5\")),])[1]\n"
   ]
  },
  {
   "cell_type": "code",
   "execution_count": 8,
   "metadata": {},
   "outputs": [
    {
     "name": "stdout",
     "output_type": "stream",
     "text": [
      "[1] \"ARM = D\"\n",
      "[1] \"Number of ST5: 111\"\n",
      "[1] \"Number of ST8: 159\"\n",
      "[1] \"ARM = E\"\n",
      "[1] \"Number of ST5: 386\"\n",
      "[1] \"Number of ST8: 525\"\n"
     ]
    },
    {
     "data": {
      "text/html": [
       "<table class=\"dataframe\">\n",
       "<caption>A matrix: 4 × 2 of type int</caption>\n",
       "<thead>\n",
       "\t<tr><th></th><th scope=col>Decolonization</th><th scope=col>Education</th></tr>\n",
       "</thead>\n",
       "<tbody>\n",
       "\t<tr><th scope=row>Intervals (i.e. observations)</th><td>270</td><td>911</td></tr>\n",
       "\t<tr><th scope=row>Cleared intervals (y = 1)</th><td>173</td><td>401</td></tr>\n",
       "\t<tr><th scope=row>Hosts for the intervals</th><td>186</td><td>396</td></tr>\n",
       "\t<tr><th scope=row>Strains in the intervals</th><td>215</td><td>540</td></tr>\n",
       "</tbody>\n",
       "</table>\n"
      ],
      "text/latex": [
       "A matrix: 4 × 2 of type int\n",
       "\\begin{tabular}{r|ll}\n",
       "  & Decolonization & Education\\\\\n",
       "\\hline\n",
       "\tIntervals (i.e. observations) & 270 & 911\\\\\n",
       "\tCleared intervals (y = 1) & 173 & 401\\\\\n",
       "\tHosts for the intervals & 186 & 396\\\\\n",
       "\tStrains in the intervals & 215 & 540\\\\\n",
       "\\end{tabular}\n"
      ],
      "text/markdown": [
       "\n",
       "A matrix: 4 × 2 of type int\n",
       "\n",
       "| <!--/--> | Decolonization | Education |\n",
       "|---|---|---|\n",
       "| Intervals (i.e. observations) | 270 | 911 |\n",
       "| Cleared intervals (y = 1) | 173 | 401 |\n",
       "| Hosts for the intervals | 186 | 396 |\n",
       "| Strains in the intervals | 215 | 540 |\n",
       "\n"
      ],
      "text/plain": [
       "                              Decolonization Education\n",
       "Intervals (i.e. observations) 270            911      \n",
       "Cleared intervals (y = 1)     173            401      \n",
       "Hosts for the intervals       186            396      \n",
       "Strains in the intervals      215            540      "
      ]
     },
     "metadata": {},
     "output_type": "display_data"
    }
   ],
   "source": [
    "get_data_counts <- function(arm, data){\n",
    "    #' Get counts from survival data by arm.\n",
    "    #'\n",
    "    #' @param arm 0 for education, 1 for decolonization.\n",
    "    #' @param data Survival data frame.\n",
    "    #' @rerurn tab A data frame containing the number of intervals, cleared intervals, hosts for the intervals and strains in the survival data.\n",
    "    \n",
    "    n_hosts <- length(unique(data[which(data$ARM == arm), \"host_id\"]))\n",
    "    n_strains <- length(unique(data[which(data$ARM == arm), \"strain\"]))\n",
    "    n_sts <- table(data[which(data$ARM == arm), \"ST\"])\n",
    "    n_clear <- table(data[which(data$ARM == arm), \"y\"])\n",
    "    n_obs <- dim(data[which(data$ARM == arm),])[1]\n",
    "\n",
    "    if (arm == 1){\n",
    "        arm <- \"D\"\n",
    "    }else{\n",
    "        arm <- \"E\"\n",
    "    }\n",
    "\n",
    "\n",
    "    tab <- data.frame(\"Intervals (i.e. observations)\" = n_obs,\n",
    "                      \"Cleared intervals (y = 1)\" = n_clear[\"3\"],\n",
    "                      \"Subjects for the intervals\" = n_hosts,\n",
    "                      \"Strains in the intervals\" = n_strains)\n",
    "                        #, \"ST5\" = n_sts[\"5\"], \"ST8\" = n_sts[\"8\"])\n",
    "    names(tab) <- c(\"Intervals (i.e. observations)\", \"Cleared intervals (y = 1)\", \"Hosts for the intervals\", \"Strains in the intervals\")\n",
    "    \n",
    "    #print(tab)\n",
    "    print(paste(\"ARM = \", arm, sep = \"\"))\n",
    "    print(paste(\"Number of ST5:\", n_sts[\"5\"], sep = \" \"))\n",
    "    print(paste(\"Number of ST8:\", n_sts[\"8\"], sep = \" \"))\n",
    "    \n",
    "    return(tab)  \n",
    "}\n",
    "\n",
    "\n",
    "tab0 <- rbind(get_data_counts(1, data), get_data_counts(0,data))\n",
    "tab0 <- t(tab0)\n",
    "colnames(tab0) <- c(\"Decolonization\", \"Education\")\n",
    "tab0\n",
    "\n",
    "write.csv(tab0, file = paste(table_savedir, \"table0.csv\", sep = \"\"), quote = FALSE)"
   ]
  },
  {
   "cell_type": "markdown",
   "metadata": {},
   "source": [
    "## 2.5 Table 3. Resistance profiles in the decolonization and education arms"
   ]
  },
  {
   "cell_type": "code",
   "execution_count": 9,
   "metadata": {},
   "outputs": [
    {
     "data": {
      "text/html": [
       "<table class=\"dataframe\">\n",
       "<caption>A matrix: 9 × 2 of type dbl</caption>\n",
       "<thead>\n",
       "\t<tr><th></th><th scope=col>Decolonization</th><th scope=col>Education</th></tr>\n",
       "</thead>\n",
       "<tbody>\n",
       "\t<tr><th scope=row>Ciprofloxacin</th><td>227</td><td>797</td></tr>\n",
       "\t<tr><th scope=row>Clindamycin</th><td>103</td><td>394</td></tr>\n",
       "\t<tr><th scope=row>Erythromycin</th><td>223</td><td>816</td></tr>\n",
       "\t<tr><th scope=row>Gentamicin</th><td> 22</td><td> 72</td></tr>\n",
       "\t<tr><th scope=row>Mupirocin</th><td> 30</td><td> 74</td></tr>\n",
       "\t<tr><th scope=row>Rifampicin</th><td>  5</td><td> 31</td></tr>\n",
       "\t<tr><th scope=row>Tetracycline</th><td>  8</td><td> 33</td></tr>\n",
       "\t<tr><th scope=row>Trimethoprim</th><td>  8</td><td> 29</td></tr>\n",
       "\t<tr><th scope=row>Chlorhexidine</th><td> 33</td><td>114</td></tr>\n",
       "</tbody>\n",
       "</table>\n"
      ],
      "text/latex": [
       "A matrix: 9 × 2 of type dbl\n",
       "\\begin{tabular}{r|ll}\n",
       "  & Decolonization & Education\\\\\n",
       "\\hline\n",
       "\tCiprofloxacin & 227 & 797\\\\\n",
       "\tClindamycin & 103 & 394\\\\\n",
       "\tErythromycin & 223 & 816\\\\\n",
       "\tGentamicin &  22 &  72\\\\\n",
       "\tMupirocin &  30 &  74\\\\\n",
       "\tRifampicin &   5 &  31\\\\\n",
       "\tTetracycline &   8 &  33\\\\\n",
       "\tTrimethoprim &   8 &  29\\\\\n",
       "\tChlorhexidine &  33 & 114\\\\\n",
       "\\end{tabular}\n"
      ],
      "text/markdown": [
       "\n",
       "A matrix: 9 × 2 of type dbl\n",
       "\n",
       "| <!--/--> | Decolonization | Education |\n",
       "|---|---|---|\n",
       "| Ciprofloxacin | 227 | 797 |\n",
       "| Clindamycin | 103 | 394 |\n",
       "| Erythromycin | 223 | 816 |\n",
       "| Gentamicin |  22 |  72 |\n",
       "| Mupirocin |  30 |  74 |\n",
       "| Rifampicin |   5 |  31 |\n",
       "| Tetracycline |   8 |  33 |\n",
       "| Trimethoprim |   8 |  29 |\n",
       "| Chlorhexidine |  33 | 114 |\n",
       "\n"
      ],
      "text/plain": [
       "              Decolonization Education\n",
       "Ciprofloxacin 227            797      \n",
       "Clindamycin   103            394      \n",
       "Erythromycin  223            816      \n",
       "Gentamicin     22             72      \n",
       "Mupirocin      30             74      \n",
       "Rifampicin      5             31      \n",
       "Tetracycline    8             33      \n",
       "Trimethoprim    8             29      \n",
       "Chlorhexidine  33            114      "
      ]
     },
     "metadata": {},
     "output_type": "display_data"
    }
   ],
   "source": [
    "get_res_counts <- function(data, treatments){\n",
    "    #' Get resistance counts to given antimicrobials for both decolonization and education groups\n",
    "    #'\n",
    "    #' @param data Survival data frame.\n",
    "    #' @param treatments A vector of antimicrobials of interest.\n",
    "    #' @return restable A data frame of the number of resistant intervals (observations) for each arm.\n",
    "    \n",
    "    restable <- as.data.frame(rbind(colSums(na.omit(data[which(data$ARM == 1),treatments])),\n",
    "                                colSums(na.omit(data[which(data$ARM == 0),treatments]))))\n",
    "    \n",
    "    restable <- t(restable)\n",
    "    colnames(restable) <- c(\"Decolonization\", \"Education\")\n",
    "    \n",
    "    return(restable)\n",
    "}\n",
    "\n",
    "restable <- get_res_counts(data, treatments)\n",
    "restable\n",
    "\n",
    "write.csv(restable, file = paste(table_savedir, \"restable.csv\", sep = \"\"), quote = FALSE)"
   ]
  },
  {
   "cell_type": "markdown",
   "metadata": {},
   "source": [
    "### 2.5.1 Additional formatting: include percentages in the resistance table (Table 3)"
   ]
  },
  {
   "cell_type": "code",
   "execution_count": 10,
   "metadata": {},
   "outputs": [
    {
     "data": {
      "text/html": [
       "<table class=\"dataframe\">\n",
       "<caption>A matrix: 9 × 3 of type chr</caption>\n",
       "<thead>\n",
       "\t<tr><th></th><th scope=col>Resistant to</th><th scope=col>Decolonization</th><th scope=col>Education</th></tr>\n",
       "</thead>\n",
       "<tbody>\n",
       "\t<tr><th scope=row>Ciprofloxacin</th><td>Ciprofloxacin</td><td>227 (84.1%)</td><td>797 (87.5%)</td></tr>\n",
       "\t<tr><th scope=row>Clindamycin</th><td>Clindamycin  </td><td>103 (38.1%)</td><td>394 (43.2%)</td></tr>\n",
       "\t<tr><th scope=row>Erythromycin</th><td>Erythromycin </td><td>223 (82.6%)</td><td>816 (89.6%)</td></tr>\n",
       "\t<tr><th scope=row>Gentamicin</th><td>Gentamicin   </td><td>22 (8.1%)  </td><td>72 (7.9%)  </td></tr>\n",
       "\t<tr><th scope=row>Mupirocin</th><td>Mupirocin    </td><td>30 (11.1%) </td><td>74 (8.1%)  </td></tr>\n",
       "\t<tr><th scope=row>Rifampicin</th><td>Rifampicin   </td><td>5 (1.9%)   </td><td>31 (3.4%)  </td></tr>\n",
       "\t<tr><th scope=row>Tetracycline</th><td>Tetracycline </td><td>8 (3%)     </td><td>33 (3.6%)  </td></tr>\n",
       "\t<tr><th scope=row>Trimethoprim</th><td>Trimethoprim </td><td>8 (3%)     </td><td>29 (3.2%)  </td></tr>\n",
       "\t<tr><th scope=row>Chlorhexidine</th><td>Chlorhexidine</td><td>33 (12.2%) </td><td>114 (12.5%)</td></tr>\n",
       "</tbody>\n",
       "</table>\n"
      ],
      "text/latex": [
       "A matrix: 9 × 3 of type chr\n",
       "\\begin{tabular}{r|lll}\n",
       "  & Resistant to & Decolonization & Education\\\\\n",
       "\\hline\n",
       "\tCiprofloxacin & Ciprofloxacin & 227 (84.1\\%) & 797 (87.5\\%)\\\\\n",
       "\tClindamycin & Clindamycin   & 103 (38.1\\%) & 394 (43.2\\%)\\\\\n",
       "\tErythromycin & Erythromycin  & 223 (82.6\\%) & 816 (89.6\\%)\\\\\n",
       "\tGentamicin & Gentamicin    & 22 (8.1\\%)   & 72 (7.9\\%)  \\\\\n",
       "\tMupirocin & Mupirocin     & 30 (11.1\\%)  & 74 (8.1\\%)  \\\\\n",
       "\tRifampicin & Rifampicin    & 5 (1.9\\%)    & 31 (3.4\\%)  \\\\\n",
       "\tTetracycline & Tetracycline  & 8 (3\\%)      & 33 (3.6\\%)  \\\\\n",
       "\tTrimethoprim & Trimethoprim  & 8 (3\\%)      & 29 (3.2\\%)  \\\\\n",
       "\tChlorhexidine & Chlorhexidine & 33 (12.2\\%)  & 114 (12.5\\%)\\\\\n",
       "\\end{tabular}\n"
      ],
      "text/markdown": [
       "\n",
       "A matrix: 9 × 3 of type chr\n",
       "\n",
       "| <!--/--> | Resistant to | Decolonization | Education |\n",
       "|---|---|---|---|\n",
       "| Ciprofloxacin | Ciprofloxacin | 227 (84.1%) | 797 (87.5%) |\n",
       "| Clindamycin | Clindamycin   | 103 (38.1%) | 394 (43.2%) |\n",
       "| Erythromycin | Erythromycin  | 223 (82.6%) | 816 (89.6%) |\n",
       "| Gentamicin | Gentamicin    | 22 (8.1%)   | 72 (7.9%)   |\n",
       "| Mupirocin | Mupirocin     | 30 (11.1%)  | 74 (8.1%)   |\n",
       "| Rifampicin | Rifampicin    | 5 (1.9%)    | 31 (3.4%)   |\n",
       "| Tetracycline | Tetracycline  | 8 (3%)      | 33 (3.6%)   |\n",
       "| Trimethoprim | Trimethoprim  | 8 (3%)      | 29 (3.2%)   |\n",
       "| Chlorhexidine | Chlorhexidine | 33 (12.2%)  | 114 (12.5%) |\n",
       "\n"
      ],
      "text/plain": [
       "              Resistant to  Decolonization Education  \n",
       "Ciprofloxacin Ciprofloxacin 227 (84.1%)    797 (87.5%)\n",
       "Clindamycin   Clindamycin   103 (38.1%)    394 (43.2%)\n",
       "Erythromycin  Erythromycin  223 (82.6%)    816 (89.6%)\n",
       "Gentamicin    Gentamicin    22 (8.1%)      72 (7.9%)  \n",
       "Mupirocin     Mupirocin     30 (11.1%)     74 (8.1%)  \n",
       "Rifampicin    Rifampicin    5 (1.9%)       31 (3.4%)  \n",
       "Tetracycline  Tetracycline  8 (3%)         33 (3.6%)  \n",
       "Trimethoprim  Trimethoprim  8 (3%)         29 (3.2%)  \n",
       "Chlorhexidine Chlorhexidine 33 (12.2%)     114 (12.5%)"
      ]
     },
     "metadata": {},
     "output_type": "display_data"
    }
   ],
   "source": [
    "add_prop_to_column <- function(tab, n_obs, col){\n",
    "    #' Adds percentage of n_obs in brackets next to the counts in column col of tab.\n",
    "    #'\n",
    "    #' @param tab Matrix/data frame of interest, such as the resistance profile table.\n",
    "    #' @param col Columns to add percentages to.\n",
    "    #' @param n_obs The total number of observations.\n",
    "\n",
    "    percentages <- paste(paste(\"(\", round(tab[,col]/n_obs, 3)*100, sep = \"\"), \"%)\", sep = \"\")\n",
    "    tab[,col] <- paste(as.character(tab[,col]), percentages)\n",
    "\n",
    "    \n",
    "    return(tab[,col])   \n",
    "}\n",
    "\n",
    "n_obs_d <- tab0[1,\"Decolonization\"]\n",
    "n_obs_e <- tab0[1, \"Education\"]\n",
    "\n",
    "restable_d <- add_prop_to_column(restable, n_obs_d,\"Decolonization\")\n",
    "restable_e <- add_prop_to_column(restable, n_obs_e,\"Education\")\n",
    "newtable <- cbind(as.matrix(rownames(restable)), restable_d, restable_e)\n",
    "colnames(newtable) <- c(\"Resistant to\",\"Decolonization\", \"Education\")\n",
    "\n",
    "newtable\n",
    "\n",
    "write.csv(newtable, file = paste(table_savedir, \"p_restable.csv\", sep = \"\"), quote = FALSE, row.names = FALSE)"
   ]
  },
  {
   "cell_type": "markdown",
   "metadata": {},
   "source": [
    "# 3. Survival Analysis Results\n",
    "\n",
    "## Fitting a model\n",
    "\n",
    "It is recommended to use a computing cluster for fitting the model, but here we fit the model locally due to file size limits of GitHub. Uncomment *Option 1* and don't run *Option 2* to use a saved model for visualization.\n"
   ]
  },
  {
   "cell_type": "code",
   "execution_count": 11,
   "metadata": {},
   "outputs": [],
   "source": [
    "# Option 1: Read the fitted models\n",
    "#mods <- read_model_set(savedir, mod_id = 2, c(\"host_idstrain\"))\n",
    "#site_mods <- read_model_set(paste(savedir, \"site_models/\", sep = \"\"), 2, c(\"host_idstrain\"), is_site = TRUE)"
   ]
  },
  {
   "cell_type": "code",
   "execution_count": 13,
   "metadata": {},
   "outputs": [
    {
     "name": "stdout",
     "output_type": "stream",
     "text": [
      "[1] \"Surv(time = t0, time2 = delta_t, event=y, type = 'interval') ~Ciprofloxacin +  Clindamycin +  Erythromycin +  Gentamicin +  Mupirocin +  Rifampicin +  Tetracycline +  Trimethoprim +  Chlorhexidine+(1|host_id) +(1|strain)\"\n"
     ]
    }
   ],
   "source": [
    "# Option 2: Fit a model locally\n",
    "# Detailed explanation is in Section 4 of this notebook.\n",
    "\n",
    "library(\"rstanarm\")\n",
    "\n",
    "source(\"scripts/utilities.R\")\n",
    "options(mc.cores = parallel::detectCores())\n",
    "\n",
    "get_model2 <- function(data, params, raneff = c(), formula_start = \"Surv(time = t0, time2 = delta_t, event=y, type = 'interval') ~\", adapt_delta = 0.95, prior = normal(0, 2.5), prior_intercept = normal(0,20), iter = 5000){\n",
    "    #' Fit a joint model for all params (antibiotics). This is the model used in the manuscript\n",
    "    #'\n",
    "    #' @param data Survival data frame.\n",
    "    #' @param params Covariates to estimate, here antimicrobials of interest.\n",
    "    #' @param formula_start Beginning of the formula as a string, censoring type etc is defined here.\n",
    "\n",
    "    # Process random effects:\n",
    "    re <- \"\"\n",
    "    if (length(raneff) != 0){\n",
    "    re <-gsub(\",\", \"\", toString(paste(paste(\"+(1|\", raneff, sep = \"\"), \")\", sep = \"\")))\n",
    "    }\n",
    "    \n",
    "    params <- check_no_resistant_obs(data, params)\n",
    "    \n",
    "    formula <- paste(paste(formula_start, gsub(\",\", \" + \", toString(params)), sep = \"\"),re, sep = \"\")\n",
    "    print(formula)\n",
    "    mod2 <- stan_surv(formula = as.formula(formula), data = as.data.frame(data), basehaz = \"exp\", refresh = 0, iter = iter, adapt_delta = adapt_delta, prior_intercept = prior_intercept, prior = prior)\n",
    "    \n",
    "    return(mod2)\n",
    "}\n",
    "\n",
    "# Use the function get_model2 to fit: entire resistance profile included\n",
    "\n",
    "adapt_delta <- 0.99999\n",
    "\n",
    "# Decolonization\n",
    "mods <- list()\n",
    "mods$mod_host_idstrainD <- get_model2(data[which(data$ARM == 1),], params = treatments, raneff = c(\"host_id\", \"strain\"), adapt_delta = adapt_delta, iter = 10000)"
   ]
  },
  {
   "cell_type": "code",
   "execution_count": 14,
   "metadata": {},
   "outputs": [
    {
     "name": "stdout",
     "output_type": "stream",
     "text": [
      "[1] \"Surv(time = t0, time2 = delta_t, event=y, type = 'interval') ~Ciprofloxacin +  Clindamycin +  Erythromycin +  Gentamicin +  Mupirocin +  Rifampicin +  Tetracycline +  Trimethoprim +  Chlorhexidine+(1|host_id) +(1|strain)\"\n"
     ]
    }
   ],
   "source": [
    "# Education (warning: will take time!)\n",
    "mods$mod_host_idstrainE <- get_model2(data[which(data$ARM == 0),], params = treatments, raneff = c(\"host_id\", \"strain\"), adapt_delta = adapt_delta, iter = 7500)\n",
    "\n",
    "#mod_e <- get_model2(data[which(data$ARM == 0),], params = treatments, adapt_delta = adapt_delta, iter = 7500)"
   ]
  },
  {
   "cell_type": "markdown",
   "metadata": {},
   "source": [
    "## 3.1 Fig 3. Credible intervals by arm"
   ]
  },
  {
   "cell_type": "code",
   "execution_count": 16,
   "metadata": {},
   "outputs": [
    {
     "name": "stdout",
     "output_type": "stream",
     "text": [
      "[1] \"Required ggplot2\"\n",
      "[1] \"Required gridExtra\"\n",
      "[1] \"Required cowplot\"\n",
      "[1] \"Required bayesplot\"\n",
      "[1] \"Required reshape2\"\n",
      "[1] \"Required rstanarm\"\n",
      "[1] \"Required igraph\"\n"
     ]
    },
    {
     "data": {
      "text/html": [
       "<strong>PNG:</strong> 2"
      ],
      "text/latex": [
       "\\textbf{PNG:} 2"
      ],
      "text/markdown": [
       "**PNG:** 2"
      ],
      "text/plain": [
       "PNG \n",
       "  2 "
      ]
     },
     "metadata": {},
     "output_type": "display_data"
    },
    {
     "data": {
      "image/png": "[encoded data removed]",
      "text/plain": [
       "plot without title"
      ]
     },
     "metadata": {
      "image/png": {
       "height": 420,
       "width": 420
      }
     },
     "output_type": "display_data"
    }
   ],
   "source": [
    "source(\"scripts/article_vis.R\") # Load plotting functions\n",
    "\n",
    "is_mod1 <- FALSE\n",
    "\n",
    "arm_figs(mods$mod_host_idstrainD, mods$mod_host_idstrainE,\n",
    "         plotfun = get_mcmc_intervals, params = treatments,\n",
    "         is_model1 = is_mod1, title = \"Impact of resistance on MRSA clearance, Subject + Strain\", vjust = 1)\n",
    "\n",
    "pdf(paste(fig_savedir, \"Fig3.pdf\", sep = \"\"))\n",
    "arm_figs(mods$mod_host_idstrainD, mods$mod_host_idstrainE,\n",
    "         plotfun = get_mcmc_intervals, params = treatments,\n",
    "         is_model1 = is_mod1, title = \"Impact of resistance on MRSA clearance, Subject + Strain\", vjust = 1)\n",
    "dev.off()"
   ]
  },
  {
   "cell_type": "markdown",
   "metadata": {},
   "source": [
    "### Credible intervals in a table\n",
    "\n",
    "Median, hazard ratio and 95% credible intervals for intercept and each antibiotic, for decolonization and education arms. The same data is represented as a figure in Fig 3.\n",
    "\n",
    "Note that there might be small fluctuations in the point estimates due to stochasticity when re-running the models."
   ]
  },
  {
   "cell_type": "code",
   "execution_count": 17,
   "metadata": {},
   "outputs": [
    {
     "name": "stdout",
     "output_type": "stream",
     "text": [
      "[1] \"Decolonization:\"\n"
     ]
    },
    {
     "data": {
      "text/html": [
       "<table class=\"dataframe\">\n",
       "<caption>A data.frame: 10 × 3</caption>\n",
       "<thead>\n",
       "\t<tr><th></th><th scope=col>median</th><th scope=col>hr</th><th scope=col>CI</th></tr>\n",
       "\t<tr><th></th><th scope=col>&lt;chr&gt;</th><th scope=col>&lt;chr&gt;</th><th scope=col>&lt;chr&gt;</th></tr>\n",
       "</thead>\n",
       "<tbody>\n",
       "\t<tr><th scope=row>(Intercept)</th><td>0.37 </td><td>1.45</td><td>-0.82;1.58 </td></tr>\n",
       "\t<tr><th scope=row>Ciprofloxacin</th><td>-0.36</td><td>0.70</td><td>-1.37;0.65 </td></tr>\n",
       "\t<tr><th scope=row>Clindamycin</th><td>-0.37</td><td>0.69</td><td>-1.07;0.34 </td></tr>\n",
       "\t<tr><th scope=row>Erythromycin</th><td>-0.09</td><td>0.91</td><td>-1.09;0.91 </td></tr>\n",
       "\t<tr><th scope=row>Gentamicin</th><td>1.18 </td><td>3.25</td><td>-0.28;2.63 </td></tr>\n",
       "\t<tr><th scope=row>Mupirocin</th><td>-2.63</td><td>0.07</td><td>-4.07;-1.29</td></tr>\n",
       "\t<tr><th scope=row>Rifampicin</th><td>1.61 </td><td>5.00</td><td>-0.47;3.66 </td></tr>\n",
       "\t<tr><th scope=row>Tetracycline</th><td>1.13 </td><td>3.08</td><td>-0.57;2.83 </td></tr>\n",
       "\t<tr><th scope=row>Trimethoprim</th><td>0.51 </td><td>1.67</td><td>-1.28;2.28 </td></tr>\n",
       "\t<tr><th scope=row>Chlorhexidine</th><td>0.77 </td><td>2.15</td><td>-0.17;1.70 </td></tr>\n",
       "</tbody>\n",
       "</table>\n"
      ],
      "text/latex": [
       "A data.frame: 10 × 3\n",
       "\\begin{tabular}{r|lll}\n",
       "  & median & hr & CI\\\\\n",
       "  & <chr> & <chr> & <chr>\\\\\n",
       "\\hline\n",
       "\t(Intercept) & 0.37  & 1.45 & -0.82;1.58 \\\\\n",
       "\tCiprofloxacin & -0.36 & 0.70 & -1.37;0.65 \\\\\n",
       "\tClindamycin & -0.37 & 0.69 & -1.07;0.34 \\\\\n",
       "\tErythromycin & -0.09 & 0.91 & -1.09;0.91 \\\\\n",
       "\tGentamicin & 1.18  & 3.25 & -0.28;2.63 \\\\\n",
       "\tMupirocin & -2.63 & 0.07 & -4.07;-1.29\\\\\n",
       "\tRifampicin & 1.61  & 5.00 & -0.47;3.66 \\\\\n",
       "\tTetracycline & 1.13  & 3.08 & -0.57;2.83 \\\\\n",
       "\tTrimethoprim & 0.51  & 1.67 & -1.28;2.28 \\\\\n",
       "\tChlorhexidine & 0.77  & 2.15 & -0.17;1.70 \\\\\n",
       "\\end{tabular}\n"
      ],
      "text/markdown": [
       "\n",
       "A data.frame: 10 × 3\n",
       "\n",
       "| <!--/--> | median &lt;chr&gt; | hr &lt;chr&gt; | CI &lt;chr&gt; |\n",
       "|---|---|---|---|\n",
       "| (Intercept) | 0.37  | 1.45 | -0.82;1.58  |\n",
       "| Ciprofloxacin | -0.36 | 0.70 | -1.37;0.65  |\n",
       "| Clindamycin | -0.37 | 0.69 | -1.07;0.34  |\n",
       "| Erythromycin | -0.09 | 0.91 | -1.09;0.91  |\n",
       "| Gentamicin | 1.18  | 3.25 | -0.28;2.63  |\n",
       "| Mupirocin | -2.63 | 0.07 | -4.07;-1.29 |\n",
       "| Rifampicin | 1.61  | 5.00 | -0.47;3.66  |\n",
       "| Tetracycline | 1.13  | 3.08 | -0.57;2.83  |\n",
       "| Trimethoprim | 0.51  | 1.67 | -1.28;2.28  |\n",
       "| Chlorhexidine | 0.77  | 2.15 | -0.17;1.70  |\n",
       "\n"
      ],
      "text/plain": [
       "              median hr   CI         \n",
       "(Intercept)   0.37   1.45 -0.82;1.58 \n",
       "Ciprofloxacin -0.36  0.70 -1.37;0.65 \n",
       "Clindamycin   -0.37  0.69 -1.07;0.34 \n",
       "Erythromycin  -0.09  0.91 -1.09;0.91 \n",
       "Gentamicin    1.18   3.25 -0.28;2.63 \n",
       "Mupirocin     -2.63  0.07 -4.07;-1.29\n",
       "Rifampicin    1.61   5.00 -0.47;3.66 \n",
       "Tetracycline  1.13   3.08 -0.57;2.83 \n",
       "Trimethoprim  0.51   1.67 -1.28;2.28 \n",
       "Chlorhexidine 0.77   2.15 -0.17;1.70 "
      ]
     },
     "metadata": {},
     "output_type": "display_data"
    },
    {
     "name": "stdout",
     "output_type": "stream",
     "text": [
      "[1] \"Education:\"\n"
     ]
    },
    {
     "data": {
      "text/html": [
       "<table class=\"dataframe\">\n",
       "<caption>A data.frame: 10 × 3</caption>\n",
       "<thead>\n",
       "\t<tr><th></th><th scope=col>median</th><th scope=col>hr</th><th scope=col>CI</th></tr>\n",
       "\t<tr><th></th><th scope=col>&lt;chr&gt;</th><th scope=col>&lt;chr&gt;</th><th scope=col>&lt;chr&gt;</th></tr>\n",
       "</thead>\n",
       "<tbody>\n",
       "\t<tr><th scope=row>(Intercept)</th><td>0.37 </td><td>1.45</td><td>-0.48;1.22 </td></tr>\n",
       "\t<tr><th scope=row>Ciprofloxacin</th><td>-0.71</td><td>0.49</td><td>-1.31;-0.10</td></tr>\n",
       "\t<tr><th scope=row>Clindamycin</th><td>0.38 </td><td>1.47</td><td>-0.06;0.83 </td></tr>\n",
       "\t<tr><th scope=row>Erythromycin</th><td>-0.97</td><td>0.38</td><td>-1.67;-0.28</td></tr>\n",
       "\t<tr><th scope=row>Gentamicin</th><td>-0.70</td><td>0.50</td><td>-1.56;0.12 </td></tr>\n",
       "\t<tr><th scope=row>Mupirocin</th><td>0.29 </td><td>1.34</td><td>-0.48;1.06 </td></tr>\n",
       "\t<tr><th scope=row>Rifampicin</th><td>-0.89</td><td>0.41</td><td>-2.24;0.37 </td></tr>\n",
       "\t<tr><th scope=row>Tetracycline</th><td>0.16 </td><td>1.17</td><td>-0.92;1.25 </td></tr>\n",
       "\t<tr><th scope=row>Trimethoprim</th><td>0.55 </td><td>1.74</td><td>-0.48;1.61 </td></tr>\n",
       "\t<tr><th scope=row>Chlorhexidine</th><td>-0.08</td><td>0.93</td><td>-0.67;0.50 </td></tr>\n",
       "</tbody>\n",
       "</table>\n"
      ],
      "text/latex": [
       "A data.frame: 10 × 3\n",
       "\\begin{tabular}{r|lll}\n",
       "  & median & hr & CI\\\\\n",
       "  & <chr> & <chr> & <chr>\\\\\n",
       "\\hline\n",
       "\t(Intercept) & 0.37  & 1.45 & -0.48;1.22 \\\\\n",
       "\tCiprofloxacin & -0.71 & 0.49 & -1.31;-0.10\\\\\n",
       "\tClindamycin & 0.38  & 1.47 & -0.06;0.83 \\\\\n",
       "\tErythromycin & -0.97 & 0.38 & -1.67;-0.28\\\\\n",
       "\tGentamicin & -0.70 & 0.50 & -1.56;0.12 \\\\\n",
       "\tMupirocin & 0.29  & 1.34 & -0.48;1.06 \\\\\n",
       "\tRifampicin & -0.89 & 0.41 & -2.24;0.37 \\\\\n",
       "\tTetracycline & 0.16  & 1.17 & -0.92;1.25 \\\\\n",
       "\tTrimethoprim & 0.55  & 1.74 & -0.48;1.61 \\\\\n",
       "\tChlorhexidine & -0.08 & 0.93 & -0.67;0.50 \\\\\n",
       "\\end{tabular}\n"
      ],
      "text/markdown": [
       "\n",
       "A data.frame: 10 × 3\n",
       "\n",
       "| <!--/--> | median &lt;chr&gt; | hr &lt;chr&gt; | CI &lt;chr&gt; |\n",
       "|---|---|---|---|\n",
       "| (Intercept) | 0.37  | 1.45 | -0.48;1.22  |\n",
       "| Ciprofloxacin | -0.71 | 0.49 | -1.31;-0.10 |\n",
       "| Clindamycin | 0.38  | 1.47 | -0.06;0.83  |\n",
       "| Erythromycin | -0.97 | 0.38 | -1.67;-0.28 |\n",
       "| Gentamicin | -0.70 | 0.50 | -1.56;0.12  |\n",
       "| Mupirocin | 0.29  | 1.34 | -0.48;1.06  |\n",
       "| Rifampicin | -0.89 | 0.41 | -2.24;0.37  |\n",
       "| Tetracycline | 0.16  | 1.17 | -0.92;1.25  |\n",
       "| Trimethoprim | 0.55  | 1.74 | -0.48;1.61  |\n",
       "| Chlorhexidine | -0.08 | 0.93 | -0.67;0.50  |\n",
       "\n"
      ],
      "text/plain": [
       "              median hr   CI         \n",
       "(Intercept)   0.37   1.45 -0.48;1.22 \n",
       "Ciprofloxacin -0.71  0.49 -1.31;-0.10\n",
       "Clindamycin   0.38   1.47 -0.06;0.83 \n",
       "Erythromycin  -0.97  0.38 -1.67;-0.28\n",
       "Gentamicin    -0.70  0.50 -1.56;0.12 \n",
       "Mupirocin     0.29   1.34 -0.48;1.06 \n",
       "Rifampicin    -0.89  0.41 -2.24;0.37 \n",
       "Tetracycline  0.16   1.17 -0.92;1.25 \n",
       "Trimethoprim  0.55   1.74 -0.48;1.61 \n",
       "Chlorhexidine -0.08  0.93 -0.67;0.50 "
      ]
     },
     "metadata": {},
     "output_type": "display_data"
    }
   ],
   "source": [
    "sumtab_d <- summary_table(mods$mod_host_idstrainD, c(\"(Intercept)\", treatments))\n",
    "sumtab_e <- summary_table(mods$mod_host_idstrainE, c(\"(Intercept)\", treatments))\n",
    "print(\"Decolonization:\")\n",
    "sumtab_d\n",
    "print(\"Education:\")\n",
    "sumtab_e\n",
    "\n",
    "\n",
    "#posterior_interval(mods$mod_host_idstrainD, prob = 0.95, pars = c(\"(Intercept)\", treatments))"
   ]
  },
  {
   "cell_type": "markdown",
   "metadata": {},
   "source": [
    "## 3.2 Fig 4. Histogram of random effects"
   ]
  },
  {
   "cell_type": "code",
   "execution_count": 18,
   "metadata": {},
   "outputs": [
    {
     "name": "stderr",
     "output_type": "stream",
     "text": [
      "Warning message in grid.Call.graphics(C_rect, x$x, x$y, x$width, x$height, resolveHJust(x$just, :\n",
      "“semi-transparency is not supported on this device: reported only once per page”\n"
     ]
    },
    {
     "data": {
      "text/html": [
       "<strong>PNG:</strong> 2"
      ],
      "text/latex": [
       "\\textbf{PNG:} 2"
      ],
      "text/markdown": [
       "**PNG:** 2"
      ],
      "text/plain": [
       "PNG \n",
       "  2 "
      ]
     },
     "metadata": {},
     "output_type": "display_data"
    },
    {
     "data": {
      "image/png": "[encoded data removed]",
      "text/plain": [
       "plot without title"
      ]
     },
     "metadata": {
      "image/png": {
       "height": 420,
       "width": 420
      }
     },
     "output_type": "display_data"
    }
   ],
   "source": [
    "# Note that the bayesian uncertainty is left uncharacterized by this histogram! This is simply \n",
    "# a histogram of the means for each host/strain random effect.\n",
    "\n",
    "get_mean_hist_raneff <- function(posterior_summary, re, xl1 = -1, xl2 = 0.5, ylab = expression(n)){\n",
    "    #' Get a histogram of random effect means for a given posterior.\n",
    "    #'\n",
    "    #' @param posterior_summary Contains the mean, arm and credible intervals of the estimated posterior random effects.\n",
    "    #' @param re Name of the random effect of interest: strain or host_id\n",
    "    #' @param xl1 x-axis limit, lower.\n",
    "    #' @param xl2 x-axis limit, upper.\n",
    "    #' @param ylab y-axis label.\n",
    "    \n",
    "    p1 <- ggplot(posterior_summary,aes(x=draw_means, fill = arm)) + \n",
    "        geom_histogram(data = posterior_summary[which(posterior_summary$raneff == re & posterior_summary$arm == \"D\"),], alpha = 0.5, bins = 15) +\n",
    "        geom_histogram(data = posterior_summary[which(posterior_summary$raneff == re & posterior_summary$arm == \"E\"),], alpha = 0.5, bins = 15) +\n",
    "        labs(title = \"\", x = \"Random effect\", y=ylab) + #paste(paste(\"SD of\", re), \"random effect\")\n",
    "        coord_cartesian(xlim = c(xl1, xl2)) +\n",
    "        scale_fill_manual(name=\"ARM\",values=c(color_scheme_get(\"blue\")$mid,color_scheme_get(\"pink\")$mid),labels=c(\"D\",\"E\"))+\n",
    "        theme_cowplot(font_family = \"Times\", font_size = 12)\n",
    "    p1\n",
    "}\n",
    "\n",
    "\n",
    "\n",
    "postsum_host <- get_posterior_summary_arms(mods$mod_host_idstrainD, mods$mod_host_idstrainE, raneff = \"host_id\")\n",
    "postsum_strain <- get_posterior_summary_arms(mods$mod_host_idstrainD, mods$mod_host_idstrainE, raneff = \"strain\")\n",
    "\n",
    "xl1 <- -3\n",
    "xl2 <- 2.5\n",
    "p1 <- get_mean_hist_raneff(postsum_strain, re = \"strain\", xl1 = xl1, xl2 = xl2)+\n",
    "theme(legend.position = c(0.1, 0.8))+\n",
    "labs(title = \"Strain\", y=expression(n)) # expression(E(gamma[s]~\"|\"~\"D\"))\n",
    "\n",
    "xl1 <- -3\n",
    "xl2 <- 2.5\n",
    "p2 <- get_mean_hist_raneff(postsum_host, re = \"host_id\", xl1 = xl1, xl2 = xl2) +\n",
    "theme(legend.position = \"none\") +\n",
    "labs(title = \"Subject\", y=\"\")\n",
    "\n",
    "\n",
    "plot_grid(p1, p2, nrow = 1, ncol = 2)\n",
    "\n",
    "pdf(paste(fig_savedir, \"Fig4.pdf\", sep = \"\"), height = 3)\n",
    "plot_grid(p1, p2, nrow = 1, ncol = 2)\n",
    "dev.off()"
   ]
  },
  {
   "cell_type": "markdown",
   "metadata": {},
   "source": [
    "## 3.3 Fig 5. Site-specific credible intervals and posterior medians: Nares\n",
    "\n",
    "Nares figure only, for throat, skin and wound se Supplementary Figures.\n",
    "\n",
    "NOTE: To plot these, please add fitted models to `saved_models\\site_models\\` Instructions for fitting the models locally are included, but please note that the fitting takes time and memory."
   ]
  },
  {
   "cell_type": "code",
   "execution_count": 20,
   "metadata": {},
   "outputs": [
    {
     "name": "stdout",
     "output_type": "stream",
     "text": [
      "[1] \"Required rstanarm\"\n"
     ]
    },
    {
     "name": "stderr",
     "output_type": "stream",
     "text": [
      "Warning message in gzfile(file, \"rb\"):\n",
      "“cannot open compressed file 'data/urv_data/data_sites.RData', probable reason 'No such file or directory'”\n"
     ]
    },
    {
     "ename": "ERROR",
     "evalue": "Error in gzfile(file, \"rb\"): cannot open the connection\n",
     "output_type": "error",
     "traceback": [
      "Error in gzfile(file, \"rb\"): cannot open the connection\nTraceback:\n",
      "1. source(\"scripts/cluster/get_model_functions.R\")",
      "2. withVisible(eval(ei, envir))",
      "3. eval(ei, envir)",
      "4. eval(ei, envir)",
      "5. readRDS(\"data/urv_data/data_sites.RData\")",
      "6. gzfile(file, \"rb\")"
     ]
    }
   ],
   "source": [
    "#site_mods <- read_model_set(paste(savedir, \"site_models/\", sep = \"\"), 2, c(\"host_idstrain\"), is_site = TRUE) # to read models from file\n",
    "source(\"scripts/cluster/get_model_functions.R\")\n",
    "\n",
    "site_mods <- list()\n",
    "\n",
    "site_mods$site_mod_host_idstrainD <- get_model_for_all_sites(\"D\", modelfun = get_model2, params = treatments, raneff = c(\"host_id\", \"strain\"), adapt_delta = c(0.9999, 0.9999999, 0.9999, 0.9999), iter =  c(10000, 10000, 10000, 10000))\n",
    "site_mods$site_mod_host_idstrainE <- get_model_for_all_sites(\"E\", modelfun = get_model2, params = treatments, raneff = c(\"host_id\", \"strain\"), adapt_delta = c(0.9999, 0.9999999, 0.9999, 0.9999), iter =  c(10000, 10000, 10000, 10000))"
   ]
  },
  {
   "cell_type": "code",
   "execution_count": null,
   "metadata": {
    "scrolled": true
   },
   "outputs": [],
   "source": [
    "# Nares only\n",
    "pds <- site_figs(site_mods$site_mod_host_idstrainD, plotfun = get_mcmc_intervals, params = treatments,\n",
    "                     is_model1 = is_mod1, col_scheme = \"blue\", as_list = T)\n",
    "pes <- site_figs(site_mods$site_mod_host_idstrainE, plotfun = get_mcmc_intervals, params = treatments,\n",
    "                     is_model1 = is_mod1, col_scheme = \"pink\", as_list = T)\n",
    "\n",
    "plot_grid(pds[[1]] + coord_cartesian(xlim = c(-4,3)) + ggtitle(\"Decolonization, Nares\"),\n",
    "          pes[[1]] + coord_cartesian(xlim = c(-4,3)) + ggtitle(\"Education, Nares\"))\n",
    "\n",
    "pdf(paste(fig_savedir, \"Fig5.pdf\", sep = \"\"), width = 7, height = 3)\n",
    "plot_grid(pds[[1]] + coord_cartesian(xlim = c(-4,3)) + ggtitle(\"Decolonization, Nares\"),\n",
    "          pes[[1]] + coord_cartesian(xlim = c(-4,3)) + ggtitle(\"Education, Nares\"))\n",
    "dev.off()\n"
   ]
  },
  {
   "cell_type": "code",
   "execution_count": null,
   "metadata": {},
   "outputs": [],
   "source": [
    "# Same as a table with 95% credible interbals\n",
    "sumtab_d_nares <- summary_table(site_mods$site_mod_host_idstrainD$mod_n, c(\"(Intercept)\", treatments))\n",
    "sumtab_e_nares <- summary_table(site_mods$site_mod_host_idstrainE$mod_n, c(\"(Intercept)\", treatments))\n",
    "print(\"Decolonization, nares:\")\n",
    "sumtab_d_nares\n",
    "print(\"Education, nares:\")\n",
    "sumtab_e_nares"
   ]
  },
  {
   "cell_type": "code",
   "execution_count": null,
   "metadata": {},
   "outputs": [],
   "source": [
    "# Throat and wound:\n",
    "# Same as a table with 95% credible interbals\n",
    "sumtab_d_t <- summary_table(site_mods$site_mod_host_idstrainD$mod_t, c(\"(Intercept)\",\n",
    "                treatments[!treatments %in% c(\"Rifampicin\", \"Tetracycline\")]))\n",
    "#sumtab_e_t <- summary_table(site_mods$site_mod_host_idstrainE$mod_t, c(\"(Intercept)\", treatments))\n",
    "print(\"Decolonization, throat:\")\n",
    "sumtab_d_t\n",
    "\n",
    "\n",
    "sumtab_e_w <- summary_table(site_mods$site_mod_host_idstrainE$mod_w, c(\"(Intercept)\", treatments))\n",
    "print(\"Education, wound:\")\n",
    "sumtab_e_w\n"
   ]
  },
  {
   "cell_type": "markdown",
   "metadata": {},
   "source": [
    "## 3.4 Model Selection\n",
    "\n",
    "K-fold cross validation has been performed on a computing cluster and the results are saved in a file and presented here."
   ]
  },
  {
   "cell_type": "code",
   "execution_count": null,
   "metadata": {},
   "outputs": [],
   "source": [
    "get_kfold_table <- function(kfold_file){\n",
    "    #' Create a data frame from kfold_file\n",
    "    #'\n",
    "    #' @param kfold_file Path and file name of kfold model fit generated using the kfold function.\n",
    "    #' @return kfold_df Data frame with elpd values from different model configurations (random effect contifugrations)\n",
    "    \n",
    "    files <- list.files(kfold_file, pattern = \"*.Rdata\")\n",
    "    print(files)\n",
    "\n",
    "    kfold_df <- data.frame(\"Estimate\"= c(), \"SE\" = c())\n",
    "    for (f in files){\n",
    "        kfold_res <- readRDS(paste(kfold_file, f, sep = \"\"))\n",
    "        kfold_res <- kfold_res$estimate\n",
    "        kfold_df <- rbind(kfold_df, kfold_res[\"elpd_kfold\",])\n",
    "    }\n",
    "    \n",
    "    colnames(kfold_df) <- c(\"Elpd\", \"SE\")\n",
    "    rownames(kfold_df) <- c(\"Fixed\", \"Fixed + Host + Strain\", \"Fixed + Host\", \"Fixed + Strain\") # Assumes the ordering of files!\n",
    "    \n",
    "    return(kfold_df)    \n",
    "}\n",
    "\n",
    "kfold_d <- get_kfold_table(\"kfold/res/resD/\")\n",
    "kfold_e <- get_kfold_table(\"kfold/res/resE/\")\n",
    "\n",
    "kfold_d <- round(kfold_d, 1)\n",
    "kfold_e <- round(kfold_e, 1)\n",
    "\n",
    "print(\"Decolonization:\")\n",
    "kfold_d\n",
    "print(\"Education:\")\n",
    "kfold_e\n",
    "\n",
    "write.csv(kfold_d, paste(table_savedir, \"kfold_raneff_d.csv\", sep = \"\"), quote = FALSE)\n",
    "write.csv(kfold_e, paste(table_savedir, \"kfold_raneff_e.csv\", sep = \"\"), quote = FALSE)"
   ]
  },
  {
   "cell_type": "markdown",
   "metadata": {},
   "source": [
    "## 3.5 Supplementary Figures\n",
    "\n",
    "NOTE: Running the following cells requires that the models are fitted and saved to `saved_models\\` (strain-specific) or `saved_models\\site_models\\` (site-specific). Due to file size limits of GitHub we have not included the fitted models in this repository, but you can fit the models on a computing cluster and save to `saved_models\\` and then run these cells.\n"
   ]
  },
  {
   "cell_type": "markdown",
   "metadata": {},
   "source": [
    "### 3.5.1 Strain random effects: posterior credible intervals + median"
   ]
  },
  {
   "cell_type": "code",
   "execution_count": null,
   "metadata": {},
   "outputs": [],
   "source": [
    "mod2s_strain <- read_model_set(savedir, mod_id = 2, c(\"strain\"))\n",
    "\n",
    "is_mod1 <- FALSE\n",
    "\n",
    "arm_figs(mod2s_strain$mod_strainD, mod2s_strain$mod_strainE, plotfun = get_mcmc_intervals, params = treatments, is_model1 = is_mod1, title = \"Impact of resistance on MRSA clearance, Strain\")\n",
    "\n",
    "pdf(paste(fig_savedir, \"S3_fig.pdf\", sep = \"\"))\n",
    "arm_figs(mod2s_strain$mod_strainD, mod2s_strain$mod_strainE,\n",
    "         plotfun = get_mcmc_intervals, params = treatments,\n",
    "         is_model1 = is_mod1, title = \"Impact of resistance on MRSA clearance, Strain\", vjust = 1)\n",
    "dev.off()"
   ]
  },
  {
   "cell_type": "markdown",
   "metadata": {},
   "source": [
    "### 3.5.2 ST and random effects histogram"
   ]
  },
  {
   "cell_type": "code",
   "execution_count": null,
   "metadata": {},
   "outputs": [],
   "source": [
    "get_raneff_means_st <- function(mod, raneff){\n",
    "    #' Get random effect means by ST\n",
    "    #'\n",
    "    #' @param mod Fitted model of interest.\n",
    "    #' @param raneff Name of the random effect of interest; strain\n",
    "    #' @return st_df Posterior random effect means divided by ST\n",
    "    \n",
    "    re_param = \"\\\\(Intercept\\\\)\"\n",
    "    raneff_regex <- paste(paste(\"b\\\\[\", re_param, sep = \"\"), paste(paste(\" \", raneff, sep = \"\"), \"\\\\:\", sep = \"\"), sep = \"\")\n",
    "    \n",
    "    # Extract raneff coefficients\n",
    "    raneff_coefficients <- as.matrix(mod, regex_pars = raneff_regex)\n",
    "    \n",
    "    # Extract raneff ids from colnames:\n",
    "    colnames(raneff_coefficients) <- gsub(raneff_regex,  \"\", colnames(raneff_coefficients))\n",
    "    colnames(raneff_coefficients) <- gsub(\"]\", \"\", colnames(raneff_coefficients))\n",
    "    \n",
    "    raneff_means <- apply(raneff_coefficients, 2, mean)\n",
    "    \n",
    "    st_df <- data.frame(\"strain\" = names(raneff_means), \"post_mean\" = raneff_means)\n",
    "    st_df <- unique(merge(st_df, unique(data[, c(\"strain\", \"ST\")]), by = \"strain\"))\n",
    "    \n",
    "    return(st_df)\n",
    "    \n",
    "}\n",
    "\n",
    "strainD <- get_raneff_means_st(mods$mod_host_idstrainD, \"strain\")\n",
    "strainE <- get_raneff_means_st(mods$mod_host_idstrainE, \"strain\")\n",
    "strainD$arm <- rep(\"D\", dim(strainD)[1])\n",
    "strainE$arm <- rep(\"E\", dim(strainE)[1])\n",
    "\n",
    "strain_st_means <- rbind(strainD, strainE)\n"
   ]
  },
  {
   "cell_type": "code",
   "execution_count": null,
   "metadata": {},
   "outputs": [],
   "source": [
    "p1 <- ggplot(strainD,aes(x=post_mean, fill = ST)) + \n",
    "    geom_histogram(data = strainD[which(strainD$ST == \"5\"),], alpha = 0.5, bins = 30) +\n",
    "    geom_histogram(data = strainD[which(strainD$ST == \"8\"),], alpha = 0.5, bins = 30) +\n",
    "    labs(title = \"Decolonization\", x = expression(mu[s]), y = expression(n[s])) + #paste(paste(\"SD of\", re), \"random effect\")\n",
    "    coord_cartesian(xlim = c(xl1, xl2)) +\n",
    "    scale_fill_manual(name=\"ST\",values=c(\"forestgreen\",\"gold2\"),labels=c(\"ST5\",\"ST8\"))+\n",
    "    theme_cowplot(font_family = \"Times\", font_size = 12)+\n",
    "    theme(legend.position = c(0.1, 0.8))\n",
    "\n",
    "p2 <- ggplot(strainE,aes(x=post_mean, fill = ST)) + \n",
    "    geom_histogram(data = strainE[which(strainE$ST == \"5\"),], alpha = 0.5, bins = 30) +\n",
    "    geom_histogram(data = strainE[which(strainE$ST == \"8\"),], alpha = 0.5, bins = 30) +\n",
    "    labs(title = \"Education\", x = expression(mu[s]), y = \"\") + #paste(paste(\"SD of\", re), \"random effect\")\n",
    "    coord_cartesian(xlim = c(xl1, xl2)) +\n",
    "    scale_fill_manual(name=\"ST\",values=c(\"forestgreen\",\"gold2\"),labels=c(\"ST5\",\"ST8\"))+\n",
    "    theme_cowplot(font_family = \"Times\", font_size = 12)+\n",
    "    theme(legend.position = \"none\")\n",
    "\n",
    "plot_grid(p1, p2, nrow = 1, ncol = 2)\n",
    "pdf(paste(fig_savedir,\"S4_fig.pdf\", sep = \"\"), height = 3)\n",
    "plot_grid(p1, p2, nrow = 1, ncol = 2)\n",
    "dev.off()"
   ]
  },
  {
   "cell_type": "markdown",
   "metadata": {},
   "source": [
    "### 3.5.3 Site-specific posterior credible intervals + medians for throat, skin and wound"
   ]
  },
  {
   "cell_type": "code",
   "execution_count": null,
   "metadata": {},
   "outputs": [],
   "source": [
    "source(\"scripts/article_vis.R\")\n",
    "pds <- site_figs(site_mods$site_mod_host_idstrainD, plotfun = get_mcmc_intervals, params = treatments,\n",
    "                     is_model1 = is_mod1, col_scheme = \"blue\", as_list = T)\n",
    "pes <- site_figs(site_mods$site_mod_host_idstrainE, plotfun = get_mcmc_intervals, params = treatments,\n",
    "                     is_model1 = is_mod1, col_scheme = \"pink\", as_list = T)\n",
    "\n",
    "\n",
    "plot_grid(get_grid_title(\"Decolonization\", 90),\n",
    "          pds[[2]] + coord_cartesian(xlim = c(-4.5,4)),\n",
    "          pds[[3]] + coord_cartesian(xlim = c(-4.5,4)),\n",
    "          pds[[4]] + coord_cartesian(xlim = c(-4.5,4)),\n",
    "          get_grid_title(\"Education\", 90),\n",
    "          pes[[2]] + coord_cartesian(xlim = c(-4.5,4)),\n",
    "          pes[[3]] + coord_cartesian(xlim = c(-4.5,4)),\n",
    "          pes[[4]] + coord_cartesian(xlim = c(-4.5,4)),\n",
    "          ncol = 4,\n",
    "          rel_heights = c(1,1),\n",
    "          rel_widths = c(0.1, 1, 1, 1))\n",
    "\n",
    "\n",
    "pdf(paste(fig_savedir,\"S5_fig.pdf\", sep = \"\"), height = 5)\n",
    "plot_grid(get_grid_title(\"Decolonization\", 90),\n",
    "          pds[[2]] + coord_cartesian(xlim = c(-4.5,4)),\n",
    "          pds[[3]] + coord_cartesian(xlim = c(-4.5,4)),\n",
    "          pds[[4]] + coord_cartesian(xlim = c(-4.5,4)),\n",
    "          get_grid_title(\"Education\", 90),\n",
    "          pes[[2]] + coord_cartesian(xlim = c(-4.5,4)),\n",
    "          pes[[3]] + coord_cartesian(xlim = c(-4.5,4)),\n",
    "          pes[[4]] + coord_cartesian(xlim = c(-4.5,4)),\n",
    "          ncol = 4,\n",
    "          rel_heights = c(1,1),\n",
    "          rel_widths = c(0.1, 1, 1, 1))\n",
    "dev.off()"
   ]
  },
  {
   "cell_type": "markdown",
   "metadata": {},
   "source": [
    "### 3.5.4 Site-specific random effect histograms"
   ]
  },
  {
   "cell_type": "code",
   "execution_count": null,
   "metadata": {},
   "outputs": [],
   "source": [
    "# Random effects by site\n",
    "\n",
    "get_site_specific_mean_raneff_histogram <- function(site_modsD, site_modsE, raneff, xl1 = -3, xl2 = 2.5, ylab = expression(n)){\n",
    "    \n",
    "    sdn <- get_posterior_summary_arms(site_modsD$mod_n, site_modsE$mod_n, raneff = raneff)\n",
    "    sdt <- get_posterior_summary_arms(site_modsD$mod_t, site_modsE$mod_t, raneff = raneff)\n",
    "    sds <- get_posterior_summary_arms(site_modsD$mod_s, site_modsE$mod_s, raneff = raneff)\n",
    "\n",
    "    pn <- get_mean_hist_raneff(sdn, re = raneff, xl1 = xl1, xl2 = xl2, ylab = ylab)\n",
    "    ps <- get_mean_hist_raneff(sds, re = raneff, xl1 = xl1, xl2 = xl2, ylab = \"\") \n",
    "    pt <- get_mean_hist_raneff(sdt, re = raneff, xl1 = xl1, xl2 = xl2, ylab = \"\")\n",
    "    \n",
    "    plist <- list(\"pn\" = pn, \"ps\" = ps, \"pt\" = pt, \"sdn\" = sdn, \"sdt\" = sdt, \"sds\" = sds)\n",
    "    \n",
    "    return(plist)\n",
    "\n",
    "}\n",
    "\n",
    "pstrain <- get_site_specific_mean_raneff_histogram(site_mods$site_mod_host_idstrainD,\n",
    "                                                   site_mods$site_mod_host_idstrainE,\n",
    "                                                   raneff = \"strain\", ylab = expression(n))\n",
    "phost <- get_site_specific_mean_raneff_histogram(site_mods$site_mod_host_idstrainD,\n",
    "                                                 site_mods$site_mod_host_idstrainE,\n",
    "                                                 raneff = \"host_id\", ylab = expression(n))\n",
    "\n",
    "# Add n_s and n_h as x-axis label\n",
    "# Combined figure with Strain and Host\n",
    "\n",
    "pstrain$pn <- pstrain$pn + \n",
    "                theme(legend.position = c(0.1, 0.8)) + \n",
    "                theme(plot.margin = unit(c(0.1, 0, 0, 0), \"cm\")) + \n",
    "                labs(title = \"Nares\", y=expression(n)) + \n",
    "                theme_cowplot(font_family = \"Times\", font_size = 12)\n",
    "\n",
    "pstrain$pt <- pstrain$pt + \n",
    "                theme(legend.position = \"none\") + \n",
    "                theme(plot.margin = unit(c(0.1, 0, 0, 0), \"cm\")) + \n",
    "                labs(title = \"Throat\",  y=\"\") + \n",
    "                theme_cowplot(font_family = \"Times\", font_size = 12)\n",
    "\n",
    "pstrain$ps <- pstrain$ps + \n",
    "                theme(legend.position = \"none\") + \n",
    "                theme(plot.margin = unit(c(0.1, 0, 0, 0), \"cm\")) + \n",
    "                labs(title = \"Skin\", y=\"\") + \n",
    "                theme_cowplot(font_family = \"Times\", font_size = 12)\n",
    "\n",
    "phost$pn <- phost$pn + \n",
    "             theme(legend.position = \"none\") + \n",
    "             theme(plot.margin = unit(c(0, 0, 0, 0), \"cm\")) + \n",
    "             labs(title = \"\", y=expression(n)) + theme_cowplot(font_family = \"Times\", font_size = 12)\n",
    "\n",
    "phost$pt <- phost$pt + \n",
    "             theme(legend.position = \"none\") + \n",
    "             theme(plot.margin = unit(c(0, 0, 0, 0), \"cm\")) + \n",
    "             labs(title = \"\", y=\"\") + \n",
    "             theme_cowplot(font_family = \"Times\", font_size = 12)\n",
    "\n",
    "phost$ps <- phost$ps + \n",
    "             theme(legend.position = \"none\") + \n",
    "             theme(plot.margin = unit(c(0, 0, 0, 0), \"cm\")) + \n",
    "             labs(title = \"\",  y=\"\") + theme_cowplot(font_family = \"Times\", font_size = 12)\n",
    "\n",
    "plot_grid(\n",
    " get_grid_title(\"Strain\"),\n",
    " pstrain$pn,\n",
    " pstrain$pt,\n",
    " pstrain$ps,\n",
    " get_grid_title(\"Subject\"),\n",
    " phost$pn,\n",
    " phost$pt,\n",
    " phost$ps,\n",
    " ncol = 4,\n",
    " nrow = 2,\n",
    " rel_heights = c(1,1),\n",
    " rel_widths = c(0.4, 1, 1, 1)\n",
    ")\n",
    "\n",
    "pdf(paste(fig_savedir,\"S6_fig.pdf\", sep = \"\"), height = 4)\n",
    "\n",
    "plot_grid(\n",
    " get_grid_title(\"Strain\"),\n",
    " pstrain$pn,\n",
    " pstrain$pt,\n",
    " pstrain$ps,\n",
    " get_grid_title(\"Subject\"),\n",
    " phost$pn,\n",
    " phost$pt,\n",
    " phost$ps,\n",
    " ncol = 4,\n",
    " nrow = 2,\n",
    " rel_heights = c(1,1),\n",
    " rel_widths = c(0.4, 1, 1, 1)\n",
    ")\n",
    "\n",
    "dev.off()"
   ]
  },
  {
   "cell_type": "markdown",
   "metadata": {},
   "source": [
    "# 4. Fitting a Model Locally\n",
    "\n",
    "Here, we will present an example of how to use the **rstanarm** package for generating a survival model. Note that you will need the latest version of **rstanarm**, at the time of writing available on Github. \n",
    "\n",
    "For efficiency, we recommend fitting the models with random effects on a computing cluster."
   ]
  },
  {
   "cell_type": "code",
   "execution_count": null,
   "metadata": {},
   "outputs": [],
   "source": [
    "library(\"rstanarm\")\n",
    "source(\"scripts/utilities.R\")"
   ]
  },
  {
   "cell_type": "code",
   "execution_count": null,
   "metadata": {},
   "outputs": [],
   "source": [
    "get_model2 <- function(data, params, raneff = c(), formula_start = \"Surv(time = t0, time2 = delta_t, event=y, type = 'interval') ~\", adapt_delta = 0.95, prior = normal(0, 2.5), prior_intercept = normal(0,20), iter = 5000){\n",
    "    #' Fit a joint model for all params (antibiotics). This is the model used in the manuscript\n",
    "    #'\n",
    "    #' @param data Survival data frame.\n",
    "    #' @param params Covariates to estimate, here antimicrobials of interest.\n",
    "    #' @param formula_start Beginning of the formula as a string, censoring type etc is defined here.\n",
    "\n",
    "    # Process random effects:\n",
    "    re <- \"\"\n",
    "    if (length(raneff) != 0){\n",
    "    re <-gsub(\",\", \"\", toString(paste(paste(\"+(1|\", raneff, sep = \"\"), \")\", sep = \"\")))\n",
    "    }\n",
    "    \n",
    "    params <- check_no_resistant_obs(data, params)\n",
    "    \n",
    "    formula <- paste(paste(formula_start, gsub(\",\", \" + \", toString(params)), sep = \"\"),re, sep = \"\")\n",
    "    print(formula)\n",
    "    mod2 <- stan_surv(formula = as.formula(formula), data = as.data.frame(data), basehaz = \"exp\", refresh = 0, iter = iter, adapt_delta = adapt_delta, prior_intercept = prior_intercept, prior = prior)\n",
    "    \n",
    "    return(mod2)\n",
    "}"
   ]
  },
  {
   "cell_type": "markdown",
   "metadata": {},
   "source": [
    "## 4.1 Example Model\n",
    "\n",
    "As an example, let's fit a survival model with no random effects (can be run locally quite fast) on the hazard scale for the decolonization arm. The linear predictor of the survival model is thus:\n",
    "\n",
    "$$ \\eta_i \\sim \\beta_0 + \\beta^T\\mathbf{x}_i,$$ where $\\beta$ denotes the vector of the effect of the covariates (here, antimicrobials of interest) $\\mathbf{x}$ for each observation $i = 1,..,N$.\n",
    "\n",
    "We use default priors from the **rstanarm** package, $\\beta \\sim N_D(0, 2.5I)$ and $\\beta_0 \\sim N(0,20)$.\n",
    "\n",
    "The survival model is thus:\n",
    "\n",
    "$$S_i(t_i) = exp(-t_ih_i),$$ where $h_i = h_0exp(\\eta_i)$.\n",
    "\n",
    "For more mathematical detail, please refer to the manuscript."
   ]
  },
  {
   "cell_type": "code",
   "execution_count": null,
   "metadata": {},
   "outputs": [],
   "source": [
    "# Use the function get_model2 to fit: entire resistance profile included\n",
    "\n",
    "adapt_delta <- 0.99\n",
    "\n",
    "# Decolonization\n",
    "mod_d <- get_model2(data[which(data$ARM == 1),], params = treatments, adapt_delta = adapt_delta, iter = 7500)\n",
    "\n",
    "# Education (uncomment to run)\n",
    "#mod_e <- get_model2(data[which(data$ARM == 0),], params = treatments, adapt_delta = adapt_delta, iter = 7500)"
   ]
  },
  {
   "cell_type": "code",
   "execution_count": null,
   "metadata": {},
   "outputs": [],
   "source": [
    "source(\"scripts/article_vis.R\")\n",
    "get_mcmc_intervals(mod_d, params = treatments) # Note that random effects were not used here for faster runtime locally!"
   ]
  },
  {
   "cell_type": "markdown",
   "metadata": {},
   "source": [
    "## 4.2 Using a Computing Cluster for Model Generation\n",
    "\n",
    "To run mixed effects survival models, using a computing cluster is highly recommended. `scripts/cluster` includes scripts and other necessary files to run the analysis on a computing cluster. Check the `scripts/cluster/README.md` file for instructions. Note that you may need to adapt these scripts for your computing cluster.\n",
    "\n",
    "The `kfold/` directory has scripts for running the 10-fold CV on a computing cluster, see `kfold_triton.sh`."
   ]
  },
  {
   "cell_type": "markdown",
   "metadata": {},
   "source": [
    "# 5. Additional Results\n",
    "\n",
    "Interesting side results and additional figures."
   ]
  },
  {
   "cell_type": "markdown",
   "metadata": {},
   "source": [
    "## 5.1 Correlation between resistances at discharge (R0)\n",
    "\n",
    "Including data from both decolonization and education arms, calculate correlation matrix at the hospital discharge (R0).\n",
    "\n",
    "When using categorical variables, can I calculate correlation?\n",
    "\n",
    "Using:\n",
    "- `mdata`: Original data after adding missing resistances and strains (generated when `surv_data_preprocessing.R` is run)\n",
    "- `data`: strain-specific survival data\n",
    "- `data_sites`: site-specific survival data\n"
   ]
  },
  {
   "cell_type": "code",
   "execution_count": null,
   "metadata": {},
   "outputs": [],
   "source": [
    "library(\"bayesplot\")\n",
    "get_resistance_correlation <- function(data, treatments, col_scheme = color_scheme_get(\"teal\"), title = \"Correlation between Resistances\"){\n",
    "    #' Get pearson correlation between resistances from data as a heatmap\n",
    "    \n",
    "    cormat <- cor(na.omit(apply(data[,treatments], 2, as.numeric)))\n",
    "    cormat[upper.tri(cormat)] <- NA\n",
    "\n",
    "    p1 <- ggplot(melt(cormat, na.rm = TRUE), aes(Var1, Var2, fill= value)) + \n",
    "        labs(x = \"\", y=\"\", fill = \"Corr\", title = title) +\n",
    "        geom_tile() +\n",
    "        scale_fill_gradient2(low = \"blue\", high = \"red\", mid = \"white\", midpoint = 0,guide = \"colorbar\") +\n",
    "        theme_cowplot(12) +\n",
    "        theme(axis.text.x = element_text(angle = 45, hjust = 1),panel.background = element_blank())\n",
    "    \n",
    "\n",
    "    return(p1)\n",
    "}"
   ]
  },
  {
   "cell_type": "code",
   "execution_count": null,
   "metadata": {},
   "outputs": [],
   "source": [
    "# mdata\n",
    "resmat_mdata <- mdata[which(mdata$Visit.. == \"R0\"), treatments] \n",
    "resmat_mdata <- na.omit(apply(resmat_mdata, 2, as.numeric))\n",
    "\n",
    "# data\n",
    "resmat_data <- data[which(data$Visit.. == \"V1\"), treatments] # Visit... denotes v1, so v0 for V1 would be R0.\n",
    "\n",
    "# data_sites\n",
    "resmat_data_sites <- data_sites[which(data_sites$Visit.. == \"V1\"), treatments]"
   ]
  },
  {
   "cell_type": "code",
   "execution_count": null,
   "metadata": {},
   "outputs": [],
   "source": [
    "cor(na.omit(apply(mdata[which(mdata$Visit.. == \"R0\" & mdata$ARM == \"D\"), treatments],2, as.numeric)))"
   ]
  },
  {
   "cell_type": "code",
   "execution_count": null,
   "metadata": {},
   "outputs": [],
   "source": [
    "cor(na.omit(apply(mdata[which(mdata$Visit.. == \"R0\" & mdata$ARM == \"E\"), treatments],2, as.numeric)))"
   ]
  },
  {
   "cell_type": "code",
   "execution_count": null,
   "metadata": {},
   "outputs": [],
   "source": [
    "cor(na.omit(data_sites[which(data_sites$ARM == 1 & data_sites$Visit.. == \"V1\"), treatments]))"
   ]
  },
  {
   "cell_type": "code",
   "execution_count": null,
   "metadata": {},
   "outputs": [],
   "source": [
    "get_resistance_correlation(data_sites[which(data_sites$ARM == 1), ],treatments) + ggtitle(\"Site-specific data at R0\")"
   ]
  },
  {
   "cell_type": "code",
   "execution_count": null,
   "metadata": {},
   "outputs": [],
   "source": [
    "p1 <- get_resistance_correlation(mdata[which(mdata$Visit.. == \"R0\"),] ,treatments) + ggtitle(\"Mykrobe data at R0\")\n",
    "p2 <- get_resistance_correlation(data[which(data$Visit.. == \"V1\"), ],treatments) + ggtitle(\"Strain-specific data at R0\")\n",
    "p3 <- get_resistance_correlation(data_sites[which(data_sites$Visit.. == \"V1\"), ],treatments) + ggtitle(\"Site-specific data at R0\")\n",
    "\n",
    "plot_grid(p1,p2,p3)\n",
    "\n",
    "p1"
   ]
  },
  {
   "cell_type": "code",
   "execution_count": null,
   "metadata": {},
   "outputs": [],
   "source": [
    "table(mdata[,\"Gentamicin\"], mdata[,\"Chlorhexidine\"])"
   ]
  },
  {
   "cell_type": "code",
   "execution_count": null,
   "metadata": {},
   "outputs": [],
   "source": [
    "cor(na.omit(resmat_mdata), method = \"pearson\") #cor(resmat_mdata, use = \"complete.obs\")\n",
    "#cor(na.omit(resmat_mdata), method = \"spearman\")\n",
    "\n",
    "cor(na.omit(resmat_data), method = \"pearson\")\n",
    "\n",
    "cor(na.omit(resmat_data_sites), method = \"pearson\")"
   ]
  }
 ],
 "metadata": {
  "kernelspec": {
   "display_name": "R",
   "language": "R",
   "name": "ir"
  },
  "language_info": {
   "codemirror_mode": "r",
   "file_extension": ".r",
   "mimetype": "text/x-r-source",
   "name": "R",
   "pygments_lexer": "r",
   "version": "4.0.0"
  }
 },
 "nbformat": 4,
 "nbformat_minor": 2
}
