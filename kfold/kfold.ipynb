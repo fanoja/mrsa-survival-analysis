{
 "cells": [
  {
   "cell_type": "markdown",
   "metadata": {},
   "source": [
    "# Running K-fold CV\n",
    "\n",
    "This notebook details how to run k-fold CV for the saved models. Here, 10 folds are used.\n",
    "The contents here are the same as in `KfoldCV.R`."
   ]
  },
  {
   "cell_type": "code",
   "execution_count": 2,
   "metadata": {},
   "outputs": [
    {
     "name": "stdout",
     "output_type": "stream",
     "text": [
      "[1] \"Loaded data.\"\n"
     ]
    },
    {
     "name": "stderr",
     "output_type": "stream",
     "text": [
      "Warning message in bins[xids] <- rep(1:K, ceiling(N/K))[1:N]:\n",
      "“number of items to replace is not a multiple of replacement length”\n",
      "Warning message in bins[xids] <- rep(1:K, ceiling(N/K))[1:N]:\n",
      "“number of items to replace is not a multiple of replacement length”\n"
     ]
    },
    {
     "name": "stdout",
     "output_type": "stream",
     "text": [
      "[1] \"Folds created and saved.\"\n"
     ]
    }
   ],
   "source": [
    "\n",
    "library(\"rstanarm\")\n",
    "\n",
    "# First, load the data and premade folds:\n",
    "data <- readRDS(\"strain_surv_data/data.RData\")\n",
    "data_sites <- readRDS(\"strain_surv_data/data_sites.RData\")\n",
    "treatments <- readRDS(\"strain_surv_data/treatments.RData\")\n",
    "\n",
    "# Fix \n",
    "data <- na.omit(data[,c(\"strain\", \"ARM\", \"host_id\", \"ST\", \"y\", \"t0\", \"delta_t\", treatments)]) # omit rows (of vars that are used in the model) with NAs\n",
    "data_sites <- na.omit(data_sites[,c(\"strain\", \"ARM\", \"host_id\", \"ST\", \"site\", \"y\", \"t0\", \"delta_t\", treatments)])\n",
    "\n",
    "get_new_folds <- T # Do you wish to create new folds using get_folds function?\n",
    "\n",
    "print(\"Loaded data.\")\n",
    "\n",
    "get_folds <- function(data, seed = 02122021){\n",
    "  #' Create new folds using loo::kfold_split_stratified\n",
    "    \n",
    "  set.seed(seed)\n",
    "  \n",
    "  folds_strain_d <- loo::kfold_split_stratified(K = 10, x = data[which(data$ARM == 1),\"strain\"])\n",
    "  folds_strain_e <- loo::kfold_split_stratified(K = 10, x = data[which(data$ARM == 0),\"strain\"])\n",
    "  \n",
    "  saveRDS(folds_strain_d, file = \"folds_strain_d.RData\")\n",
    "  saveRDS(folds_strain_e, file = \"folds_strain_e.RData\")\n",
    "  \n",
    "  print(\"Folds created and saved.\")\n",
    "}\n",
    "\n",
    "if (get_new_folds){\n",
    "  get_folds(data)\n",
    "}\n",
    "\n",
    "\n",
    "folds_strain_d <- readRDS(\"folds_strain_d.RData\")\n",
    "folds_strain_e <- readRDS(\"folds_strain_e.RData\")"
   ]
  },
  {
   "cell_type": "code",
   "execution_count": 8,
   "metadata": {},
   "outputs": [
    {
     "name": "stdout",
     "output_type": "stream",
     "text": [
      "[1] \"raneff_formula.txt\"            \"res/resD/10foldCV_fixed.Rdata\"\n",
      "[3] \"1\"                            \n",
      "[1] 3\n",
      "[1] \"fixed\"\n",
      "[1] \"res/resD/10foldCV_fixed.Rdata\"\n",
      "[1] \"1\"\n"
     ]
    }
   ],
   "source": [
    "options(mc.cores = parallel::detectCores())\n",
    "\n",
    "# Read raneff_formula, savefile and arm from command line (saved to txt files)\n",
    "args = c(\"raneff_formula.txt\", \"res/resD/10foldCV_fixed.Rdata\", 1)#commandArgs(trailingOnly=TRUE)\n",
    "print(args)\n",
    "print(length(args))\n",
    "\n",
    "raneff <- \"fixed\"\n",
    "print(raneff)\n",
    "\n",
    "raneff_formula <- gsub(\",\", \"\",toString(paste(paste('+ (1', raneff, sep = '|'), ')', sep = '')))\n",
    "\n",
    "if(raneff == \"fixed\"){\n",
    "  raneff_formula <- ''\n",
    "}\n",
    "\n",
    "savefile <- args[2]\n",
    "arm <- as.numeric(args[3]) # decolonization or education\n",
    "\n",
    "print(args[2])\n",
    "print(args[3])\n",
    "\n",
    "data <- data[which(data$ARM == arm),]\n",
    "\n",
    "if (arm == 1){\n",
    "    folds_strain <- folds_strain_d\n",
    "}\n",
    "\n",
    "if(arm == 0){\n",
    "    folds_strain <- folds_strain_e    \n",
    "}\n",
    "\n",
    "pooled_formula <- paste(paste('Surv(time = t0, time2 = delta_t, event = y, type = \"interval\") ~', gsub(',', ' + ', toString(treatments)), sep = ''), raneff_formula, sep = '')\n"
   ]
  },
  {
   "cell_type": "code",
   "execution_count": 9,
   "metadata": {
    "scrolled": true
   },
   "outputs": [
    {
     "name": "stdout",
     "output_type": "stream",
     "text": [
      "[1] \"Surv(time = t0, time2 = delta_t, event = y, type = \\\"interval\\\") ~Ciprofloxacin +  Clindamycin +  Erythromycin +  Gentamicin +  Mupirocin +  Rifampicin +  Tetracycline +  Trimethoprim +  Chlorhexidine\"\n",
      "[1] \"Generating model:  \"\n",
      "[1] \"ARM 1\"\n"
     ]
    }
   ],
   "source": [
    "print(pooled_formula)\n",
    "\n",
    "# Run model 2 (all antibiotics) without random effects (faster to run locally). \n",
    "# Use higher adapt_delta and iter with random effects to avoid divergent transitions and ESS tail problems\n",
    "# (see rstanarm documentation for details)\n",
    "\n",
    "print(paste(\"Generating model: \", raneff_formula))\n",
    "print(paste(\"ARM\", arm))\n",
    "\n",
    "mod <- stan_surv(data = na.omit(data[which(data$ARM == arm),]), formula = as.formula(pooled_formula),\n",
    "                 basehaz = \"exp\", refresh = 0,\n",
    "                 prior_intercept = normal(0,20), prior = normal(0,2.5),\n",
    "            iter = 7500, adapt_delta = 0.999) #iter = 10000, adapt_delta = 0.99)\n"
   ]
  },
  {
   "cell_type": "code",
   "execution_count": 10,
   "metadata": {},
   "outputs": [
    {
     "name": "stdout",
     "output_type": "stream",
     "text": [
      "[1] \"Running 10-fold CV...\"\n"
     ]
    },
    {
     "name": "stderr",
     "output_type": "stream",
     "text": [
      "Fitting K = 10 models distributed over 8 cores\n",
      "\n"
     ]
    },
    {
     "name": "stdout",
     "output_type": "stream",
     "text": [
      "[1] \"Done.\"\n"
     ]
    }
   ],
   "source": [
    "# Kfold CV trick for stan_surv:\n",
    "# Courtesy of John Baums, https://github.com/stan-dev/rstanarm/issues/473\n",
    "f <- eval(parse(\n",
    "  text=sub(\n",
    "    'fit_k_call$subset <- eval(fit_k_call$subset)', \n",
    "    'fit_k_call$subset <- if(is.stansurv(x)) NULL else eval(fit_k_call$subset)', \n",
    "    deparse(rstanarm:::kfold.stanreg), fixed=TRUE)\n",
    "), envir=environment(rstanarm:::kfold.stanreg))\n",
    "\n",
    "assignInNamespace('kfold.stanreg', value=f, ns='rstanarm')\n",
    "\n",
    "# Run kfold:\n",
    "print(\"Running 10-fold CV...\")\n",
    "kfold_data <- kfold(mod, K=10, folds = folds_strain)\n",
    "saveRDS(kfold_data, file = savefile)\n",
    "print(\"Done.\")\n"
   ]
  }
 ],
 "metadata": {
  "kernelspec": {
   "display_name": "R",
   "language": "R",
   "name": "ir"
  },
  "language_info": {
   "codemirror_mode": "r",
   "file_extension": ".r",
   "mimetype": "text/x-r-source",
   "name": "R",
   "pygments_lexer": "r",
   "version": "4.0.0"
  }
 },
 "nbformat": 4,
 "nbformat_minor": 2
}
